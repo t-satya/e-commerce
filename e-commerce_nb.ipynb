{
 "cells": [
  {
   "cell_type": "code",
   "execution_count": 1,
   "id": "5ab2bee1",
   "metadata": {
    "_cell_guid": "b1076dfc-b9ad-4769-8c92-a6c4dae69d19",
    "_uuid": "8f2839f25d086af736a60e9eeb907d3b93b6e0e5",
    "execution": {
     "iopub.execute_input": "2023-04-03T13:01:31.199778Z",
     "iopub.status.busy": "2023-04-03T13:01:31.198246Z",
     "iopub.status.idle": "2023-04-03T13:01:31.216580Z",
     "shell.execute_reply": "2023-04-03T13:01:31.215191Z"
    },
    "papermill": {
     "duration": 0.039084,
     "end_time": "2023-04-03T13:01:31.219512",
     "exception": false,
     "start_time": "2023-04-03T13:01:31.180428",
     "status": "completed"
    },
    "tags": []
   },
   "outputs": [
    {
     "name": "stdout",
     "output_type": "stream",
     "text": [
      "/kaggle/input/e-commerce-shoppers-behaviour-understanding/test_data_v2.csv\n",
      "/kaggle/input/e-commerce-shoppers-behaviour-understanding/train_data_v2.csv\n",
      "/kaggle/input/e-commerce-shoppers-behaviour-understanding/sample.csv\n"
     ]
    }
   ],
   "source": [
    "# This Python 3 environment comes with many helpful analytics libraries installed\n",
    "# It is defined by the kaggle/python Docker image: https://github.com/kaggle/docker-python\n",
    "# For example, here's several helpful packages to load\n",
    "\n",
    "import numpy as np # linear algebra\n",
    "import pandas as pd # data processing, CSV file I/O (e.g. pd.read_csv)\n",
    "\n",
    "# Input data files are available in the read-only \"../input/\" directory\n",
    "# For example, running this (by clicking run or pressing Shift+Enter) will list all files under the input directory\n",
    "\n",
    "import os\n",
    "for dirname, _, filenames in os.walk('/kaggle/input'):\n",
    "    for filename in filenames:\n",
    "        print(os.path.join(dirname, filename))\n",
    "\n",
    "# You can write up to 20GB to the current directory (/kaggle/working/) that gets preserved as output when you create a version using \"Save & Run All\" \n",
    "# You can also write temporary files to /kaggle/temp/, but they won't be saved outside of the current session"
   ]
  },
  {
   "cell_type": "code",
   "execution_count": 2,
   "id": "b8715353",
   "metadata": {
    "execution": {
     "iopub.execute_input": "2023-04-03T13:01:31.254885Z",
     "iopub.status.busy": "2023-04-03T13:01:31.254005Z",
     "iopub.status.idle": "2023-04-03T13:01:31.461523Z",
     "shell.execute_reply": "2023-04-03T13:01:31.459302Z"
    },
    "papermill": {
     "duration": 0.227185,
     "end_time": "2023-04-03T13:01:31.464330",
     "exception": false,
     "start_time": "2023-04-03T13:01:31.237145",
     "status": "completed"
    },
    "tags": []
   },
   "outputs": [
    {
     "name": "stdout",
     "output_type": "stream",
     "text": [
      "<class 'pandas.core.frame.DataFrame'>\n",
      "RangeIndex: 14731 entries, 0 to 14730\n",
      "Data columns (total 22 columns):\n",
      " #   Column                           Non-Null Count  Dtype  \n",
      "---  ------                           --------------  -----  \n",
      " 0   HomePage                         14578 non-null  float64\n",
      " 1   HomePage_Duration                14581 non-null  float64\n",
      " 2   LandingPage                      14578 non-null  float64\n",
      " 3   LandingPage_Duration             14596 non-null  float64\n",
      " 4   ProductDescriptionPage           14608 non-null  float64\n",
      " 5   ProductDescriptionPage_Duration  14564 non-null  float64\n",
      " 6   GoogleMetric:Bounce Rates        14580 non-null  float64\n",
      " 7   GoogleMetric:Exit Rates          14602 non-null  float64\n",
      " 8   GoogleMetric:Page Values         14599 non-null  float64\n",
      " 9   SeasonalPurchase                 14581 non-null  float64\n",
      " 10  Month_SeasonalPurchase           14587 non-null  object \n",
      " 11  OS                               14597 non-null  float64\n",
      " 12  SearchEngine                     14609 non-null  float64\n",
      " 13  Zone                             14614 non-null  float64\n",
      " 14  Type of Traffic                  14588 non-null  float64\n",
      " 15  CustomerType                     14587 non-null  object \n",
      " 16  Gender                           14586 non-null  object \n",
      " 17  Cookies Setting                  14587 non-null  object \n",
      " 18  Education                        14595 non-null  object \n",
      " 19  Marital Status                   14601 non-null  object \n",
      " 20  WeekendPurchase                  14610 non-null  float64\n",
      " 21  Made_Purchase                    14731 non-null  bool   \n",
      "dtypes: bool(1), float64(15), object(6)\n",
      "memory usage: 2.4+ MB\n",
      "None\n"
     ]
    }
   ],
   "source": [
    "#dummy classifier\n",
    "df=pd.read_csv(\"/kaggle/input/e-commerce-shoppers-behaviour-understanding/train_data_v2.csv\")\n",
    "x_test=pd.read_csv(\"/kaggle/input/e-commerce-shoppers-behaviour-understanding/test_data_v2.csv\")\n",
    "\n",
    "print(df.info())"
   ]
  },
  {
   "cell_type": "code",
   "execution_count": 3,
   "id": "96122f14",
   "metadata": {
    "execution": {
     "iopub.execute_input": "2023-04-03T13:01:31.496902Z",
     "iopub.status.busy": "2023-04-03T13:01:31.496161Z",
     "iopub.status.idle": "2023-04-03T13:01:31.508447Z",
     "shell.execute_reply": "2023-04-03T13:01:31.507162Z"
    },
    "papermill": {
     "duration": 0.031637,
     "end_time": "2023-04-03T13:01:31.511168",
     "exception": false,
     "start_time": "2023-04-03T13:01:31.479531",
     "status": "completed"
    },
    "tags": []
   },
   "outputs": [
    {
     "data": {
      "text/plain": [
       "False    9065\n",
       "True     5666\n",
       "Name: Made_Purchase, dtype: int64"
      ]
     },
     "execution_count": 3,
     "metadata": {},
     "output_type": "execute_result"
    }
   ],
   "source": [
    "df['Made_Purchase'].value_counts()"
   ]
  },
  {
   "cell_type": "code",
   "execution_count": 4,
   "id": "e0479ded",
   "metadata": {
    "execution": {
     "iopub.execute_input": "2023-04-03T13:01:31.543844Z",
     "iopub.status.busy": "2023-04-03T13:01:31.542798Z",
     "iopub.status.idle": "2023-04-03T13:01:31.564899Z",
     "shell.execute_reply": "2023-04-03T13:01:31.563812Z"
    },
    "papermill": {
     "duration": 0.04117,
     "end_time": "2023-04-03T13:01:31.567664",
     "exception": false,
     "start_time": "2023-04-03T13:01:31.526494",
     "status": "completed"
    },
    "tags": []
   },
   "outputs": [],
   "source": [
    "#changing data type for columns OS, SearchEngine,Zone, Type of Traffic, WeekendPurchase\n",
    "df[[\"OS\",\"SearchEngine\",\"Zone\",\"Type of Traffic\",\"WeekendPurchase\"]]=df[[\"OS\",\"SearchEngine\",\"Zone\",\"Type of Traffic\",\"WeekendPurchase\"]].astype(\"category\")"
   ]
  },
  {
   "cell_type": "code",
   "execution_count": 5,
   "id": "0b4f683a",
   "metadata": {
    "execution": {
     "iopub.execute_input": "2023-04-03T13:01:31.599391Z",
     "iopub.status.busy": "2023-04-03T13:01:31.598930Z",
     "iopub.status.idle": "2023-04-03T13:01:31.622087Z",
     "shell.execute_reply": "2023-04-03T13:01:31.620358Z"
    },
    "papermill": {
     "duration": 0.043259,
     "end_time": "2023-04-03T13:01:31.626016",
     "exception": false,
     "start_time": "2023-04-03T13:01:31.582757",
     "status": "completed"
    },
    "tags": []
   },
   "outputs": [
    {
     "name": "stdout",
     "output_type": "stream",
     "text": [
      "<class 'pandas.core.frame.DataFrame'>\n",
      "RangeIndex: 14731 entries, 0 to 14730\n",
      "Data columns (total 22 columns):\n",
      " #   Column                           Non-Null Count  Dtype   \n",
      "---  ------                           --------------  -----   \n",
      " 0   HomePage                         14578 non-null  float64 \n",
      " 1   HomePage_Duration                14581 non-null  float64 \n",
      " 2   LandingPage                      14578 non-null  float64 \n",
      " 3   LandingPage_Duration             14596 non-null  float64 \n",
      " 4   ProductDescriptionPage           14608 non-null  float64 \n",
      " 5   ProductDescriptionPage_Duration  14564 non-null  float64 \n",
      " 6   GoogleMetric:Bounce Rates        14580 non-null  float64 \n",
      " 7   GoogleMetric:Exit Rates          14602 non-null  float64 \n",
      " 8   GoogleMetric:Page Values         14599 non-null  float64 \n",
      " 9   SeasonalPurchase                 14581 non-null  float64 \n",
      " 10  Month_SeasonalPurchase           14587 non-null  object  \n",
      " 11  OS                               14597 non-null  category\n",
      " 12  SearchEngine                     14609 non-null  category\n",
      " 13  Zone                             14614 non-null  category\n",
      " 14  Type of Traffic                  14588 non-null  category\n",
      " 15  CustomerType                     14587 non-null  object  \n",
      " 16  Gender                           14586 non-null  object  \n",
      " 17  Cookies Setting                  14587 non-null  object  \n",
      " 18  Education                        14595 non-null  object  \n",
      " 19  Marital Status                   14601 non-null  object  \n",
      " 20  WeekendPurchase                  14610 non-null  category\n",
      " 21  Made_Purchase                    14731 non-null  bool    \n",
      "dtypes: bool(1), category(5), float64(10), object(6)\n",
      "memory usage: 1.9+ MB\n"
     ]
    }
   ],
   "source": [
    "df.info()"
   ]
  },
  {
   "cell_type": "code",
   "execution_count": 6,
   "id": "f8ad6c8d",
   "metadata": {
    "execution": {
     "iopub.execute_input": "2023-04-03T13:01:31.659931Z",
     "iopub.status.busy": "2023-04-03T13:01:31.659486Z",
     "iopub.status.idle": "2023-04-03T13:01:31.709722Z",
     "shell.execute_reply": "2023-04-03T13:01:31.708370Z"
    },
    "papermill": {
     "duration": 0.070023,
     "end_time": "2023-04-03T13:01:31.712593",
     "exception": false,
     "start_time": "2023-04-03T13:01:31.642570",
     "status": "completed"
    },
    "tags": []
   },
   "outputs": [
    {
     "data": {
      "text/html": [
       "<div>\n",
       "<style scoped>\n",
       "    .dataframe tbody tr th:only-of-type {\n",
       "        vertical-align: middle;\n",
       "    }\n",
       "\n",
       "    .dataframe tbody tr th {\n",
       "        vertical-align: top;\n",
       "    }\n",
       "\n",
       "    .dataframe thead th {\n",
       "        text-align: right;\n",
       "    }\n",
       "</style>\n",
       "<table border=\"1\" class=\"dataframe\">\n",
       "  <thead>\n",
       "    <tr style=\"text-align: right;\">\n",
       "      <th></th>\n",
       "      <th>HomePage</th>\n",
       "      <th>HomePage_Duration</th>\n",
       "      <th>LandingPage</th>\n",
       "      <th>LandingPage_Duration</th>\n",
       "      <th>ProductDescriptionPage</th>\n",
       "      <th>ProductDescriptionPage_Duration</th>\n",
       "      <th>GoogleMetric:Bounce Rates</th>\n",
       "      <th>GoogleMetric:Exit Rates</th>\n",
       "      <th>GoogleMetric:Page Values</th>\n",
       "      <th>SeasonalPurchase</th>\n",
       "      <th>...</th>\n",
       "      <th>SearchEngine</th>\n",
       "      <th>Zone</th>\n",
       "      <th>Type of Traffic</th>\n",
       "      <th>CustomerType</th>\n",
       "      <th>Gender</th>\n",
       "      <th>Cookies Setting</th>\n",
       "      <th>Education</th>\n",
       "      <th>Marital Status</th>\n",
       "      <th>WeekendPurchase</th>\n",
       "      <th>Made_Purchase</th>\n",
       "    </tr>\n",
       "  </thead>\n",
       "  <tbody>\n",
       "    <tr>\n",
       "      <th>1873</th>\n",
       "      <td>0.0</td>\n",
       "      <td>0.0</td>\n",
       "      <td>0.0</td>\n",
       "      <td>0.0</td>\n",
       "      <td>0.0</td>\n",
       "      <td>0.0</td>\n",
       "      <td>0.2</td>\n",
       "      <td>0.2</td>\n",
       "      <td>0.0</td>\n",
       "      <td>0.0</td>\n",
       "      <td>...</td>\n",
       "      <td>2.0</td>\n",
       "      <td>3.0</td>\n",
       "      <td>18.0</td>\n",
       "      <td>Returning_Visitor</td>\n",
       "      <td>Not Specified</td>\n",
       "      <td>ALL</td>\n",
       "      <td>Not Specified</td>\n",
       "      <td>Other</td>\n",
       "      <td>1.0</td>\n",
       "      <td>False</td>\n",
       "    </tr>\n",
       "    <tr>\n",
       "      <th>5640</th>\n",
       "      <td>0.0</td>\n",
       "      <td>0.0</td>\n",
       "      <td>0.0</td>\n",
       "      <td>0.0</td>\n",
       "      <td>0.0</td>\n",
       "      <td>0.0</td>\n",
       "      <td>0.2</td>\n",
       "      <td>0.2</td>\n",
       "      <td>0.0</td>\n",
       "      <td>0.0</td>\n",
       "      <td>...</td>\n",
       "      <td>1.0</td>\n",
       "      <td>9.0</td>\n",
       "      <td>2.0</td>\n",
       "      <td>Returning_Visitor</td>\n",
       "      <td>Male</td>\n",
       "      <td>Deny</td>\n",
       "      <td>Diploma</td>\n",
       "      <td>Single</td>\n",
       "      <td>0.0</td>\n",
       "      <td>False</td>\n",
       "    </tr>\n",
       "    <tr>\n",
       "      <th>8289</th>\n",
       "      <td>0.0</td>\n",
       "      <td>0.0</td>\n",
       "      <td>0.0</td>\n",
       "      <td>0.0</td>\n",
       "      <td>0.0</td>\n",
       "      <td>0.0</td>\n",
       "      <td>0.2</td>\n",
       "      <td>0.2</td>\n",
       "      <td>0.0</td>\n",
       "      <td>0.0</td>\n",
       "      <td>...</td>\n",
       "      <td>1.0</td>\n",
       "      <td>8.0</td>\n",
       "      <td>8.0</td>\n",
       "      <td>Returning_Visitor</td>\n",
       "      <td>Not Specified</td>\n",
       "      <td>Deny</td>\n",
       "      <td>Graduate</td>\n",
       "      <td>Other</td>\n",
       "      <td>0.0</td>\n",
       "      <td>False</td>\n",
       "    </tr>\n",
       "    <tr>\n",
       "      <th>13879</th>\n",
       "      <td>0.0</td>\n",
       "      <td>0.0</td>\n",
       "      <td>0.0</td>\n",
       "      <td>0.0</td>\n",
       "      <td>0.0</td>\n",
       "      <td>0.0</td>\n",
       "      <td>0.2</td>\n",
       "      <td>0.2</td>\n",
       "      <td>0.0</td>\n",
       "      <td>0.0</td>\n",
       "      <td>...</td>\n",
       "      <td>2.0</td>\n",
       "      <td>3.0</td>\n",
       "      <td>18.0</td>\n",
       "      <td>Returning_Visitor</td>\n",
       "      <td>Not Specified</td>\n",
       "      <td>ALL</td>\n",
       "      <td>Not Specified</td>\n",
       "      <td>Other</td>\n",
       "      <td>1.0</td>\n",
       "      <td>True</td>\n",
       "    </tr>\n",
       "  </tbody>\n",
       "</table>\n",
       "<p>4 rows × 22 columns</p>\n",
       "</div>"
      ],
      "text/plain": [
       "       HomePage  HomePage_Duration  LandingPage  LandingPage_Duration  \\\n",
       "1873        0.0                0.0          0.0                   0.0   \n",
       "5640        0.0                0.0          0.0                   0.0   \n",
       "8289        0.0                0.0          0.0                   0.0   \n",
       "13879       0.0                0.0          0.0                   0.0   \n",
       "\n",
       "       ProductDescriptionPage  ProductDescriptionPage_Duration  \\\n",
       "1873                      0.0                              0.0   \n",
       "5640                      0.0                              0.0   \n",
       "8289                      0.0                              0.0   \n",
       "13879                     0.0                              0.0   \n",
       "\n",
       "       GoogleMetric:Bounce Rates  GoogleMetric:Exit Rates  \\\n",
       "1873                         0.2                      0.2   \n",
       "5640                         0.2                      0.2   \n",
       "8289                         0.2                      0.2   \n",
       "13879                        0.2                      0.2   \n",
       "\n",
       "       GoogleMetric:Page Values  SeasonalPurchase  ... SearchEngine Zone  \\\n",
       "1873                        0.0               0.0  ...          2.0  3.0   \n",
       "5640                        0.0               0.0  ...          1.0  9.0   \n",
       "8289                        0.0               0.0  ...          1.0  8.0   \n",
       "13879                       0.0               0.0  ...          2.0  3.0   \n",
       "\n",
       "      Type of Traffic       CustomerType         Gender Cookies Setting  \\\n",
       "1873             18.0  Returning_Visitor  Not Specified             ALL   \n",
       "5640              2.0  Returning_Visitor           Male            Deny   \n",
       "8289              8.0  Returning_Visitor  Not Specified            Deny   \n",
       "13879            18.0  Returning_Visitor  Not Specified             ALL   \n",
       "\n",
       "           Education Marital Status WeekendPurchase Made_Purchase  \n",
       "1873   Not Specified          Other             1.0         False  \n",
       "5640         Diploma         Single             0.0         False  \n",
       "8289        Graduate          Other             0.0         False  \n",
       "13879  Not Specified          Other             1.0          True  \n",
       "\n",
       "[4 rows x 22 columns]"
      ]
     },
     "execution_count": 6,
     "metadata": {},
     "output_type": "execute_result"
    }
   ],
   "source": [
    "#dropping rows\n",
    "df[(df['HomePage']==0)&(df['LandingPage']==0)&(df['ProductDescriptionPage']==0)]"
   ]
  },
  {
   "cell_type": "code",
   "execution_count": 7,
   "id": "24f6d35a",
   "metadata": {
    "execution": {
     "iopub.execute_input": "2023-04-03T13:01:31.748949Z",
     "iopub.status.busy": "2023-04-03T13:01:31.748453Z",
     "iopub.status.idle": "2023-04-03T13:01:31.790227Z",
     "shell.execute_reply": "2023-04-03T13:01:31.788256Z"
    },
    "papermill": {
     "duration": 0.064491,
     "end_time": "2023-04-03T13:01:31.793662",
     "exception": false,
     "start_time": "2023-04-03T13:01:31.729171",
     "status": "completed"
    },
    "tags": []
   },
   "outputs": [
    {
     "data": {
      "text/html": [
       "<div>\n",
       "<style scoped>\n",
       "    .dataframe tbody tr th:only-of-type {\n",
       "        vertical-align: middle;\n",
       "    }\n",
       "\n",
       "    .dataframe tbody tr th {\n",
       "        vertical-align: top;\n",
       "    }\n",
       "\n",
       "    .dataframe thead th {\n",
       "        text-align: right;\n",
       "    }\n",
       "</style>\n",
       "<table border=\"1\" class=\"dataframe\">\n",
       "  <thead>\n",
       "    <tr style=\"text-align: right;\">\n",
       "      <th></th>\n",
       "      <th>HomePage</th>\n",
       "      <th>HomePage_Duration</th>\n",
       "      <th>LandingPage</th>\n",
       "      <th>LandingPage_Duration</th>\n",
       "      <th>ProductDescriptionPage</th>\n",
       "      <th>ProductDescriptionPage_Duration</th>\n",
       "      <th>GoogleMetric:Bounce Rates</th>\n",
       "      <th>GoogleMetric:Exit Rates</th>\n",
       "      <th>GoogleMetric:Page Values</th>\n",
       "      <th>SeasonalPurchase</th>\n",
       "      <th>...</th>\n",
       "      <th>SearchEngine</th>\n",
       "      <th>Zone</th>\n",
       "      <th>Type of Traffic</th>\n",
       "      <th>CustomerType</th>\n",
       "      <th>Gender</th>\n",
       "      <th>Cookies Setting</th>\n",
       "      <th>Education</th>\n",
       "      <th>Marital Status</th>\n",
       "      <th>WeekendPurchase</th>\n",
       "      <th>Made_Purchase</th>\n",
       "    </tr>\n",
       "  </thead>\n",
       "  <tbody>\n",
       "    <tr>\n",
       "      <th>1873</th>\n",
       "      <td>0.0</td>\n",
       "      <td>0.0</td>\n",
       "      <td>0.0</td>\n",
       "      <td>0.0</td>\n",
       "      <td>0.0</td>\n",
       "      <td>0.0</td>\n",
       "      <td>0.2</td>\n",
       "      <td>0.2</td>\n",
       "      <td>0.0</td>\n",
       "      <td>0.0</td>\n",
       "      <td>...</td>\n",
       "      <td>2.0</td>\n",
       "      <td>3.0</td>\n",
       "      <td>18.0</td>\n",
       "      <td>Returning_Visitor</td>\n",
       "      <td>Not Specified</td>\n",
       "      <td>ALL</td>\n",
       "      <td>Not Specified</td>\n",
       "      <td>Other</td>\n",
       "      <td>1.0</td>\n",
       "      <td>False</td>\n",
       "    </tr>\n",
       "    <tr>\n",
       "      <th>5640</th>\n",
       "      <td>0.0</td>\n",
       "      <td>0.0</td>\n",
       "      <td>0.0</td>\n",
       "      <td>0.0</td>\n",
       "      <td>0.0</td>\n",
       "      <td>0.0</td>\n",
       "      <td>0.2</td>\n",
       "      <td>0.2</td>\n",
       "      <td>0.0</td>\n",
       "      <td>0.0</td>\n",
       "      <td>...</td>\n",
       "      <td>1.0</td>\n",
       "      <td>9.0</td>\n",
       "      <td>2.0</td>\n",
       "      <td>Returning_Visitor</td>\n",
       "      <td>Male</td>\n",
       "      <td>Deny</td>\n",
       "      <td>Diploma</td>\n",
       "      <td>Single</td>\n",
       "      <td>0.0</td>\n",
       "      <td>False</td>\n",
       "    </tr>\n",
       "    <tr>\n",
       "      <th>8289</th>\n",
       "      <td>0.0</td>\n",
       "      <td>0.0</td>\n",
       "      <td>0.0</td>\n",
       "      <td>0.0</td>\n",
       "      <td>0.0</td>\n",
       "      <td>0.0</td>\n",
       "      <td>0.2</td>\n",
       "      <td>0.2</td>\n",
       "      <td>0.0</td>\n",
       "      <td>0.0</td>\n",
       "      <td>...</td>\n",
       "      <td>1.0</td>\n",
       "      <td>8.0</td>\n",
       "      <td>8.0</td>\n",
       "      <td>Returning_Visitor</td>\n",
       "      <td>Not Specified</td>\n",
       "      <td>Deny</td>\n",
       "      <td>Graduate</td>\n",
       "      <td>Other</td>\n",
       "      <td>0.0</td>\n",
       "      <td>False</td>\n",
       "    </tr>\n",
       "  </tbody>\n",
       "</table>\n",
       "<p>3 rows × 22 columns</p>\n",
       "</div>"
      ],
      "text/plain": [
       "      HomePage  HomePage_Duration  LandingPage  LandingPage_Duration  \\\n",
       "1873       0.0                0.0          0.0                   0.0   \n",
       "5640       0.0                0.0          0.0                   0.0   \n",
       "8289       0.0                0.0          0.0                   0.0   \n",
       "\n",
       "      ProductDescriptionPage  ProductDescriptionPage_Duration  \\\n",
       "1873                     0.0                              0.0   \n",
       "5640                     0.0                              0.0   \n",
       "8289                     0.0                              0.0   \n",
       "\n",
       "      GoogleMetric:Bounce Rates  GoogleMetric:Exit Rates  \\\n",
       "1873                        0.2                      0.2   \n",
       "5640                        0.2                      0.2   \n",
       "8289                        0.2                      0.2   \n",
       "\n",
       "      GoogleMetric:Page Values  SeasonalPurchase  ... SearchEngine Zone  \\\n",
       "1873                       0.0               0.0  ...          2.0  3.0   \n",
       "5640                       0.0               0.0  ...          1.0  9.0   \n",
       "8289                       0.0               0.0  ...          1.0  8.0   \n",
       "\n",
       "     Type of Traffic       CustomerType         Gender Cookies Setting  \\\n",
       "1873            18.0  Returning_Visitor  Not Specified             ALL   \n",
       "5640             2.0  Returning_Visitor           Male            Deny   \n",
       "8289             8.0  Returning_Visitor  Not Specified            Deny   \n",
       "\n",
       "          Education Marital Status WeekendPurchase Made_Purchase  \n",
       "1873  Not Specified          Other             1.0         False  \n",
       "5640        Diploma         Single             0.0         False  \n",
       "8289       Graduate          Other             0.0         False  \n",
       "\n",
       "[3 rows x 22 columns]"
      ]
     },
     "execution_count": 7,
     "metadata": {},
     "output_type": "execute_result"
    }
   ],
   "source": [
    "df=df.drop(13879)\n",
    "df[(df['HomePage']==0)&(df['LandingPage']==0)&(df['ProductDescriptionPage']==0)]"
   ]
  },
  {
   "cell_type": "code",
   "execution_count": 8,
   "id": "811ccf80",
   "metadata": {
    "execution": {
     "iopub.execute_input": "2023-04-03T13:01:31.828713Z",
     "iopub.status.busy": "2023-04-03T13:01:31.828086Z",
     "iopub.status.idle": "2023-04-03T13:01:31.838907Z",
     "shell.execute_reply": "2023-04-03T13:01:31.836820Z"
    },
    "papermill": {
     "duration": 0.032583,
     "end_time": "2023-04-03T13:01:31.842430",
     "exception": false,
     "start_time": "2023-04-03T13:01:31.809847",
     "status": "completed"
    },
    "tags": []
   },
   "outputs": [
    {
     "data": {
      "text/plain": [
       "\"list1=list(df[(df['GoogleMetric:Exit Rates']==0) & (df['GoogleMetric:Bounce Rates']==0) & (df['Made_Purchase']==True)].index)\\ndf=df.drop(list1)\""
      ]
     },
     "execution_count": 8,
     "metadata": {},
     "output_type": "execute_result"
    }
   ],
   "source": [
    "\"\"\"list1=list(df[(df['GoogleMetric:Exit Rates']==0) & (df['GoogleMetric:Bounce Rates']==0) & (df['Made_Purchase']==True)].index)\n",
    "df=df.drop(list1)\"\"\""
   ]
  },
  {
   "cell_type": "code",
   "execution_count": 9,
   "id": "88b5f51d",
   "metadata": {
    "execution": {
     "iopub.execute_input": "2023-04-03T13:01:31.878005Z",
     "iopub.status.busy": "2023-04-03T13:01:31.877550Z",
     "iopub.status.idle": "2023-04-03T13:01:31.934373Z",
     "shell.execute_reply": "2023-04-03T13:01:31.932898Z"
    },
    "papermill": {
     "duration": 0.079706,
     "end_time": "2023-04-03T13:01:31.938583",
     "exception": false,
     "start_time": "2023-04-03T13:01:31.858877",
     "status": "completed"
    },
    "tags": []
   },
   "outputs": [
    {
     "name": "stdout",
     "output_type": "stream",
     "text": [
      "cat cols: ['Month_SeasonalPurchase', 'OS', 'SearchEngine', 'Zone', 'Type of Traffic', 'CustomerType', 'Gender', 'Cookies Setting', 'Education', 'Marital Status', 'WeekendPurchase'] \n",
      " num_cols: ['HomePage', 'HomePage_Duration', 'LandingPage', 'LandingPage_Duration', 'ProductDescriptionPage', 'ProductDescriptionPage_Duration', 'GoogleMetric:Bounce Rates', 'GoogleMetric:Exit Rates', 'GoogleMetric:Page Values', 'SeasonalPurchase']\n",
      "HomePage : [ 0.  1.  2.  4. 12.  3. 10.  6.  5.  9.  8. 16. 13.  7. 17. 19. 14. 15.\n",
      " 11. 24. 22. 18. 21. 23. 27. 20. nan 26.]\n",
      "HomePage_Duration : [  0.   53.   64.6 ... 276.  262.  168.7]\n",
      "LandingPage : [ 0.  1.  2.  4.  5.  3. 14. 12.  6.  7.  9. 10.  8. 13. nan 11. 16. 24.]\n",
      "LandingPage_Duration : [  0.        120.         16.        ... 102.25      357.\n",
      " 103.1666667]\n",
      "ProductDescriptionPage : [  1.   2.  10.   0.   3.   7.   6.  23.  13.  20.   8.   5.  32.   4.\n",
      "  45.  52.   9.  46.  22.  14.  11.  12.  36.  16.  42.  27.  15.  17.\n",
      " 128.  25.  30.  28.  19.  31.  24.  50.  96.  49.  68.  98.  67.  55.\n",
      "  37.  18.  29.  34.  51.  63.  35.  40.  33.  21.  64.  81.  61.  47.\n",
      "  44.  39.  38. 149.  41.  66.  43.  26.  80.  62.  83. 173.  58.  48.\n",
      "  54.  56. 111.  69.  82.  59. 287.  84.  78.  53.  65. 129.  77.  76.\n",
      " 140. 110.  60. 115.  73. 328.  71.  93. 160.  86.  95. 151.  57. 117.\n",
      " 124.  75. 127. 125. 104.  90. 150.  92.  89. 220. 187. 154. 112. 131.\n",
      " 159.  94. 142. 206. 102. 313. 145.  97. 198. 181. 126.  79. 106.  74.\n",
      " 109.  85. 101. 119.  70.  88.  91. 100. 114.  72. 172. 217. 141. 156.\n",
      " 108.  87. 180. 135.  99. 362. 179. 132. 118. 175. 148. 440. 178. 184.\n",
      " 113. 134. 122. 105. 146. 133. 193. 222. 121. 103. 107. 439. 223. 230.\n",
      " 280. 377. 310. 158. 486. 153. 139. 229. 137. 170. 157. 202. 346. 221.\n",
      " 240. 162. 123. 130. 429. 136. 120. 167. 256. 258. 168. 358. 213. 282.\n",
      " 155. 138. 246. 414. 176. 409. 171. 189. 243. 241. 197. 143. 391. 238.\n",
      " 161. 152. 165. 174. 584. 164. 311. 340. 250. 204. 200. 385. 232. 251.\n",
      " 517. 225. 194. 169. 309. 227. 235. 501. 224. 275. 144. 343. 116. 186.\n",
      " 166. 349. 182. 423. 359. 163. 147. 312. 219. 324. 338. 272. 470. 207.\n",
      " 218. 245. 326. 188. 190. 205. 401. 177. 286. 247. 357. 315. 237. 195.\n",
      " 264. 248. 279. 199. 261. 336. 231. 378. 210. 192.  nan 281. 274. 254.\n",
      " 534. 216. 339. 686. 211. 183. 449. 255. 291. 305. 518. 705. 337. 290.\n",
      " 374.]\n",
      "ProductDescriptionPage_Duration : [  0.           2.66666667 627.5        ... 677.5        288.5\n",
      " 271.7166667 ]\n",
      "GoogleMetric:Bounce Rates : [0.2        0.05       0.02       ... 0.0065     0.01694514 0.06829268]\n",
      "GoogleMetric:Exit Rates : [0.2        0.14       0.05       ... 0.01371983 0.08699187 0.07013889]\n",
      "GoogleMetric:Page Values : [ 0.         54.17976426 19.44707913 ...  2.52661686 16.78420229\n",
      " 82.4326349 ]\n",
      "SeasonalPurchase : [0.  0.4 1.  0.8 0.2 0.6 nan]\n",
      "Month_SeasonalPurchase : ['Feb' 'Mar' 'May' 'Oct' 'June' 'Jul' 'Aug' 'Nov' 'Sep' 'Dec' nan]\n",
      "OS : [4.0, 3.0, 2.0, 1.0, 7.0, 6.0, 8.0, 5.0, NaN]\n",
      "Categories (8, float64): [1.0, 2.0, 3.0, 4.0, 5.0, 6.0, 7.0, 8.0]\n",
      "SearchEngine : [1.0, 2.0, 3.0, 4.0, 5.0, ..., 7.0, 12.0, 13.0, 11.0, NaN]\n",
      "Length: 14\n",
      "Categories (13, float64): [1.0, 2.0, 3.0, 4.0, ..., 10.0, 11.0, 12.0, 13.0]\n",
      "Zone : [9.0, 2.0, 1.0, 3.0, 4.0, 5.0, 7.0, 8.0, 6.0, NaN]\n",
      "Categories (9, float64): [1.0, 2.0, 3.0, 4.0, ..., 6.0, 7.0, 8.0, 9.0]\n",
      "Type of Traffic : [3.0, 4.0, 5.0, 2.0, 1.0, ..., 16.0, 17.0, 18.0, 20.0, NaN]\n",
      "Length: 21\n",
      "Categories (20, float64): [1.0, 2.0, 3.0, 4.0, ..., 17.0, 18.0, 19.0, 20.0]\n",
      "CustomerType : ['Returning_Visitor' 'New_Visitor' 'Other' nan]\n",
      "Gender : ['Not Specified' 'Female' 'Male' nan]\n",
      "Cookies Setting : ['Deny' 'ALL' 'Required' nan]\n",
      "Education : ['Not Specified' 'Others' 'Diploma' 'Graduate' nan]\n",
      "Marital Status : ['Other' 'Married' 'Single' nan]\n",
      "WeekendPurchase : [0.0, 1.0, NaN]\n",
      "Categories (2, float64): [0.0, 1.0]\n"
     ]
    },
    {
     "name": "stderr",
     "output_type": "stream",
     "text": [
      "/opt/conda/lib/python3.7/site-packages/pandas/io/formats/format.py:1429: FutureWarning: Index.ravel returning ndarray is deprecated; in a future version this will return a view on self.\n",
      "  for val, m in zip(values.ravel(), mask.ravel())\n"
     ]
    }
   ],
   "source": [
    "x_train, y_train = df.iloc[:,:-1], df.iloc[:, [-1]] #splitting the dataset into labels and features\n",
    "#look at the unique features\n",
    "cols=list(x_train.columns)\n",
    "cat_cols = list(x_train.select_dtypes(include=[\"object\",\"category\",\"bool\"]).columns)\n",
    "num_cols = list(x_train.select_dtypes(include=\"float64\").columns)\n",
    "print(\"cat cols:\",cat_cols,\"\\n num_cols:\",num_cols)\n",
    "cat_cols_indx = list(x_train.columns.get_indexer(cat_cols))\n",
    "num_cols_indx = list(x_train.columns.get_indexer(num_cols))\n",
    "for col in cols:\n",
    "    print(col,\":\",x_train[col].unique())"
   ]
  },
  {
   "cell_type": "code",
   "execution_count": 10,
   "id": "6fac119a",
   "metadata": {
    "execution": {
     "iopub.execute_input": "2023-04-03T13:01:31.976461Z",
     "iopub.status.busy": "2023-04-03T13:01:31.975739Z",
     "iopub.status.idle": "2023-04-03T13:01:31.990853Z",
     "shell.execute_reply": "2023-04-03T13:01:31.989597Z"
    },
    "papermill": {
     "duration": 0.038259,
     "end_time": "2023-04-03T13:01:31.994162",
     "exception": false,
     "start_time": "2023-04-03T13:01:31.955903",
     "status": "completed"
    },
    "tags": []
   },
   "outputs": [
    {
     "data": {
      "text/plain": [
       "HomePage                           153\n",
       "HomePage_Duration                  150\n",
       "LandingPage                        153\n",
       "LandingPage_Duration               135\n",
       "ProductDescriptionPage             123\n",
       "ProductDescriptionPage_Duration    167\n",
       "GoogleMetric:Bounce Rates          151\n",
       "GoogleMetric:Exit Rates            129\n",
       "GoogleMetric:Page Values           132\n",
       "SeasonalPurchase                   150\n",
       "Month_SeasonalPurchase             144\n",
       "OS                                 134\n",
       "SearchEngine                       122\n",
       "Zone                               117\n",
       "Type of Traffic                    143\n",
       "CustomerType                       144\n",
       "Gender                             145\n",
       "Cookies Setting                    144\n",
       "Education                          136\n",
       "Marital Status                     130\n",
       "WeekendPurchase                    121\n",
       "dtype: int64"
      ]
     },
     "execution_count": 10,
     "metadata": {},
     "output_type": "execute_result"
    }
   ],
   "source": [
    "x_train.isnull().sum()"
   ]
  },
  {
   "cell_type": "code",
   "execution_count": 11,
   "id": "78d327ad",
   "metadata": {
    "execution": {
     "iopub.execute_input": "2023-04-03T13:01:32.032042Z",
     "iopub.status.busy": "2023-04-03T13:01:32.031578Z",
     "iopub.status.idle": "2023-04-03T13:01:32.084541Z",
     "shell.execute_reply": "2023-04-03T13:01:32.082823Z"
    },
    "papermill": {
     "duration": 0.075168,
     "end_time": "2023-04-03T13:01:32.087648",
     "exception": false,
     "start_time": "2023-04-03T13:01:32.012480",
     "status": "completed"
    },
    "tags": []
   },
   "outputs": [
    {
     "data": {
      "text/html": [
       "<div>\n",
       "<style scoped>\n",
       "    .dataframe tbody tr th:only-of-type {\n",
       "        vertical-align: middle;\n",
       "    }\n",
       "\n",
       "    .dataframe tbody tr th {\n",
       "        vertical-align: top;\n",
       "    }\n",
       "\n",
       "    .dataframe thead th {\n",
       "        text-align: right;\n",
       "    }\n",
       "</style>\n",
       "<table border=\"1\" class=\"dataframe\">\n",
       "  <thead>\n",
       "    <tr style=\"text-align: right;\">\n",
       "      <th></th>\n",
       "      <th>HomePage</th>\n",
       "      <th>HomePage_Duration</th>\n",
       "      <th>LandingPage</th>\n",
       "      <th>LandingPage_Duration</th>\n",
       "      <th>ProductDescriptionPage</th>\n",
       "      <th>ProductDescriptionPage_Duration</th>\n",
       "      <th>GoogleMetric:Bounce Rates</th>\n",
       "      <th>GoogleMetric:Exit Rates</th>\n",
       "      <th>GoogleMetric:Page Values</th>\n",
       "      <th>SeasonalPurchase</th>\n",
       "      <th>...</th>\n",
       "      <th>OS</th>\n",
       "      <th>SearchEngine</th>\n",
       "      <th>Zone</th>\n",
       "      <th>Type of Traffic</th>\n",
       "      <th>CustomerType</th>\n",
       "      <th>Gender</th>\n",
       "      <th>Cookies Setting</th>\n",
       "      <th>Education</th>\n",
       "      <th>Marital Status</th>\n",
       "      <th>WeekendPurchase</th>\n",
       "    </tr>\n",
       "  </thead>\n",
       "  <tbody>\n",
       "    <tr>\n",
       "      <th>8660</th>\n",
       "      <td>0.0</td>\n",
       "      <td>NaN</td>\n",
       "      <td>0.0</td>\n",
       "      <td>0.0</td>\n",
       "      <td>11.0</td>\n",
       "      <td>115.250000</td>\n",
       "      <td>0.027273</td>\n",
       "      <td>0.045455</td>\n",
       "      <td>0.000000</td>\n",
       "      <td>0.0</td>\n",
       "      <td>...</td>\n",
       "      <td>3.0</td>\n",
       "      <td>2.0</td>\n",
       "      <td>9.0</td>\n",
       "      <td>10.0</td>\n",
       "      <td>New_Visitor</td>\n",
       "      <td>Not Specified</td>\n",
       "      <td>ALL</td>\n",
       "      <td>Not Specified</td>\n",
       "      <td>Single</td>\n",
       "      <td>1.0</td>\n",
       "    </tr>\n",
       "    <tr>\n",
       "      <th>8668</th>\n",
       "      <td>0.0</td>\n",
       "      <td>NaN</td>\n",
       "      <td>0.0</td>\n",
       "      <td>0.0</td>\n",
       "      <td>23.0</td>\n",
       "      <td>647.142857</td>\n",
       "      <td>0.004348</td>\n",
       "      <td>0.022222</td>\n",
       "      <td>0.000000</td>\n",
       "      <td>0.0</td>\n",
       "      <td>...</td>\n",
       "      <td>1.0</td>\n",
       "      <td>8.0</td>\n",
       "      <td>1.0</td>\n",
       "      <td>11.0</td>\n",
       "      <td>Returning_Visitor</td>\n",
       "      <td>Male</td>\n",
       "      <td>Required</td>\n",
       "      <td>Diploma</td>\n",
       "      <td>Other</td>\n",
       "      <td>1.0</td>\n",
       "    </tr>\n",
       "    <tr>\n",
       "      <th>8691</th>\n",
       "      <td>0.0</td>\n",
       "      <td>NaN</td>\n",
       "      <td>0.0</td>\n",
       "      <td>0.0</td>\n",
       "      <td>39.0</td>\n",
       "      <td>1168.619841</td>\n",
       "      <td>0.000000</td>\n",
       "      <td>0.009064</td>\n",
       "      <td>0.000000</td>\n",
       "      <td>0.0</td>\n",
       "      <td>...</td>\n",
       "      <td>1.0</td>\n",
       "      <td>1.0</td>\n",
       "      <td>4.0</td>\n",
       "      <td>3.0</td>\n",
       "      <td>Returning_Visitor</td>\n",
       "      <td>Not Specified</td>\n",
       "      <td>Deny</td>\n",
       "      <td>Diploma</td>\n",
       "      <td>Single</td>\n",
       "      <td>0.0</td>\n",
       "    </tr>\n",
       "    <tr>\n",
       "      <th>8697</th>\n",
       "      <td>4.0</td>\n",
       "      <td>NaN</td>\n",
       "      <td>0.0</td>\n",
       "      <td>0.0</td>\n",
       "      <td>10.0</td>\n",
       "      <td>153.900000</td>\n",
       "      <td>0.016667</td>\n",
       "      <td>0.016667</td>\n",
       "      <td>0.000000</td>\n",
       "      <td>0.0</td>\n",
       "      <td>...</td>\n",
       "      <td>3.0</td>\n",
       "      <td>2.0</td>\n",
       "      <td>6.0</td>\n",
       "      <td>4.0</td>\n",
       "      <td>Returning_Visitor</td>\n",
       "      <td>Female</td>\n",
       "      <td>Deny</td>\n",
       "      <td>Others</td>\n",
       "      <td>Other</td>\n",
       "      <td>0.0</td>\n",
       "    </tr>\n",
       "    <tr>\n",
       "      <th>8727</th>\n",
       "      <td>0.0</td>\n",
       "      <td>NaN</td>\n",
       "      <td>0.0</td>\n",
       "      <td>0.0</td>\n",
       "      <td>17.0</td>\n",
       "      <td>289.555556</td>\n",
       "      <td>0.017647</td>\n",
       "      <td>0.031373</td>\n",
       "      <td>0.000000</td>\n",
       "      <td>0.0</td>\n",
       "      <td>...</td>\n",
       "      <td>1.0</td>\n",
       "      <td>1.0</td>\n",
       "      <td>1.0</td>\n",
       "      <td>10.0</td>\n",
       "      <td>Returning_Visitor</td>\n",
       "      <td>Female</td>\n",
       "      <td>Deny</td>\n",
       "      <td>Graduate</td>\n",
       "      <td>Other</td>\n",
       "      <td>0.0</td>\n",
       "    </tr>\n",
       "    <tr>\n",
       "      <th>...</th>\n",
       "      <td>...</td>\n",
       "      <td>...</td>\n",
       "      <td>...</td>\n",
       "      <td>...</td>\n",
       "      <td>...</td>\n",
       "      <td>...</td>\n",
       "      <td>...</td>\n",
       "      <td>...</td>\n",
       "      <td>...</td>\n",
       "      <td>...</td>\n",
       "      <td>...</td>\n",
       "      <td>...</td>\n",
       "      <td>...</td>\n",
       "      <td>...</td>\n",
       "      <td>...</td>\n",
       "      <td>...</td>\n",
       "      <td>...</td>\n",
       "      <td>...</td>\n",
       "      <td>...</td>\n",
       "      <td>...</td>\n",
       "      <td>...</td>\n",
       "    </tr>\n",
       "    <tr>\n",
       "      <th>14281</th>\n",
       "      <td>0.0</td>\n",
       "      <td>NaN</td>\n",
       "      <td>2.0</td>\n",
       "      <td>157.5</td>\n",
       "      <td>35.0</td>\n",
       "      <td>5999.808333</td>\n",
       "      <td>0.005405</td>\n",
       "      <td>0.027207</td>\n",
       "      <td>0.000000</td>\n",
       "      <td>0.0</td>\n",
       "      <td>...</td>\n",
       "      <td>2.0</td>\n",
       "      <td>2.0</td>\n",
       "      <td>4.0</td>\n",
       "      <td>1.0</td>\n",
       "      <td>Returning_Visitor</td>\n",
       "      <td>Not Specified</td>\n",
       "      <td>Deny</td>\n",
       "      <td>Others</td>\n",
       "      <td>Married</td>\n",
       "      <td>1.0</td>\n",
       "    </tr>\n",
       "    <tr>\n",
       "      <th>14314</th>\n",
       "      <td>0.0</td>\n",
       "      <td>NaN</td>\n",
       "      <td>0.0</td>\n",
       "      <td>0.0</td>\n",
       "      <td>11.0</td>\n",
       "      <td>684.333333</td>\n",
       "      <td>0.018182</td>\n",
       "      <td>0.063636</td>\n",
       "      <td>0.000000</td>\n",
       "      <td>0.0</td>\n",
       "      <td>...</td>\n",
       "      <td>2.0</td>\n",
       "      <td>4.0</td>\n",
       "      <td>6.0</td>\n",
       "      <td>1.0</td>\n",
       "      <td>Returning_Visitor</td>\n",
       "      <td>Not Specified</td>\n",
       "      <td>ALL</td>\n",
       "      <td>Not Specified</td>\n",
       "      <td>Single</td>\n",
       "      <td>0.0</td>\n",
       "    </tr>\n",
       "    <tr>\n",
       "      <th>14428</th>\n",
       "      <td>6.0</td>\n",
       "      <td>NaN</td>\n",
       "      <td>1.0</td>\n",
       "      <td>16.0</td>\n",
       "      <td>187.0</td>\n",
       "      <td>4987.688889</td>\n",
       "      <td>0.003109</td>\n",
       "      <td>0.011119</td>\n",
       "      <td>10.801887</td>\n",
       "      <td>0.0</td>\n",
       "      <td>...</td>\n",
       "      <td>4.0</td>\n",
       "      <td>1.0</td>\n",
       "      <td>2.0</td>\n",
       "      <td>2.0</td>\n",
       "      <td>Returning_Visitor</td>\n",
       "      <td>Male</td>\n",
       "      <td>Required</td>\n",
       "      <td>Not Specified</td>\n",
       "      <td>Other</td>\n",
       "      <td>0.0</td>\n",
       "    </tr>\n",
       "    <tr>\n",
       "      <th>14490</th>\n",
       "      <td>3.0</td>\n",
       "      <td>NaN</td>\n",
       "      <td>0.0</td>\n",
       "      <td>0.0</td>\n",
       "      <td>17.0</td>\n",
       "      <td>544.100000</td>\n",
       "      <td>0.000000</td>\n",
       "      <td>0.002000</td>\n",
       "      <td>0.000000</td>\n",
       "      <td>0.0</td>\n",
       "      <td>...</td>\n",
       "      <td>2.0</td>\n",
       "      <td>2.0</td>\n",
       "      <td>9.0</td>\n",
       "      <td>2.0</td>\n",
       "      <td>New_Visitor</td>\n",
       "      <td>Female</td>\n",
       "      <td>Required</td>\n",
       "      <td>Diploma</td>\n",
       "      <td>Other</td>\n",
       "      <td>0.0</td>\n",
       "    </tr>\n",
       "    <tr>\n",
       "      <th>14624</th>\n",
       "      <td>0.0</td>\n",
       "      <td>NaN</td>\n",
       "      <td>0.0</td>\n",
       "      <td>0.0</td>\n",
       "      <td>6.0</td>\n",
       "      <td>0.000000</td>\n",
       "      <td>0.200000</td>\n",
       "      <td>0.200000</td>\n",
       "      <td>0.000000</td>\n",
       "      <td>0.0</td>\n",
       "      <td>...</td>\n",
       "      <td>1.0</td>\n",
       "      <td>8.0</td>\n",
       "      <td>4.0</td>\n",
       "      <td>1.0</td>\n",
       "      <td>Returning_Visitor</td>\n",
       "      <td>Female</td>\n",
       "      <td>Required</td>\n",
       "      <td>Diploma</td>\n",
       "      <td>Single</td>\n",
       "      <td>0.0</td>\n",
       "    </tr>\n",
       "  </tbody>\n",
       "</table>\n",
       "<p>150 rows × 21 columns</p>\n",
       "</div>"
      ],
      "text/plain": [
       "       HomePage  HomePage_Duration  LandingPage  LandingPage_Duration  \\\n",
       "8660        0.0                NaN          0.0                   0.0   \n",
       "8668        0.0                NaN          0.0                   0.0   \n",
       "8691        0.0                NaN          0.0                   0.0   \n",
       "8697        4.0                NaN          0.0                   0.0   \n",
       "8727        0.0                NaN          0.0                   0.0   \n",
       "...         ...                ...          ...                   ...   \n",
       "14281       0.0                NaN          2.0                 157.5   \n",
       "14314       0.0                NaN          0.0                   0.0   \n",
       "14428       6.0                NaN          1.0                  16.0   \n",
       "14490       3.0                NaN          0.0                   0.0   \n",
       "14624       0.0                NaN          0.0                   0.0   \n",
       "\n",
       "       ProductDescriptionPage  ProductDescriptionPage_Duration  \\\n",
       "8660                     11.0                       115.250000   \n",
       "8668                     23.0                       647.142857   \n",
       "8691                     39.0                      1168.619841   \n",
       "8697                     10.0                       153.900000   \n",
       "8727                     17.0                       289.555556   \n",
       "...                       ...                              ...   \n",
       "14281                    35.0                      5999.808333   \n",
       "14314                    11.0                       684.333333   \n",
       "14428                   187.0                      4987.688889   \n",
       "14490                    17.0                       544.100000   \n",
       "14624                     6.0                         0.000000   \n",
       "\n",
       "       GoogleMetric:Bounce Rates  GoogleMetric:Exit Rates  \\\n",
       "8660                    0.027273                 0.045455   \n",
       "8668                    0.004348                 0.022222   \n",
       "8691                    0.000000                 0.009064   \n",
       "8697                    0.016667                 0.016667   \n",
       "8727                    0.017647                 0.031373   \n",
       "...                          ...                      ...   \n",
       "14281                   0.005405                 0.027207   \n",
       "14314                   0.018182                 0.063636   \n",
       "14428                   0.003109                 0.011119   \n",
       "14490                   0.000000                 0.002000   \n",
       "14624                   0.200000                 0.200000   \n",
       "\n",
       "       GoogleMetric:Page Values  SeasonalPurchase  ...   OS SearchEngine Zone  \\\n",
       "8660                   0.000000               0.0  ...  3.0          2.0  9.0   \n",
       "8668                   0.000000               0.0  ...  1.0          8.0  1.0   \n",
       "8691                   0.000000               0.0  ...  1.0          1.0  4.0   \n",
       "8697                   0.000000               0.0  ...  3.0          2.0  6.0   \n",
       "8727                   0.000000               0.0  ...  1.0          1.0  1.0   \n",
       "...                         ...               ...  ...  ...          ...  ...   \n",
       "14281                  0.000000               0.0  ...  2.0          2.0  4.0   \n",
       "14314                  0.000000               0.0  ...  2.0          4.0  6.0   \n",
       "14428                 10.801887               0.0  ...  4.0          1.0  2.0   \n",
       "14490                  0.000000               0.0  ...  2.0          2.0  9.0   \n",
       "14624                  0.000000               0.0  ...  1.0          8.0  4.0   \n",
       "\n",
       "      Type of Traffic       CustomerType         Gender Cookies Setting  \\\n",
       "8660             10.0        New_Visitor  Not Specified             ALL   \n",
       "8668             11.0  Returning_Visitor           Male        Required   \n",
       "8691              3.0  Returning_Visitor  Not Specified            Deny   \n",
       "8697              4.0  Returning_Visitor         Female            Deny   \n",
       "8727             10.0  Returning_Visitor         Female            Deny   \n",
       "...               ...                ...            ...             ...   \n",
       "14281             1.0  Returning_Visitor  Not Specified            Deny   \n",
       "14314             1.0  Returning_Visitor  Not Specified             ALL   \n",
       "14428             2.0  Returning_Visitor           Male        Required   \n",
       "14490             2.0        New_Visitor         Female        Required   \n",
       "14624             1.0  Returning_Visitor         Female        Required   \n",
       "\n",
       "           Education Marital Status WeekendPurchase  \n",
       "8660   Not Specified         Single             1.0  \n",
       "8668         Diploma          Other             1.0  \n",
       "8691         Diploma         Single             0.0  \n",
       "8697          Others          Other             0.0  \n",
       "8727        Graduate          Other             0.0  \n",
       "...              ...            ...             ...  \n",
       "14281         Others        Married             1.0  \n",
       "14314  Not Specified         Single             0.0  \n",
       "14428  Not Specified          Other             0.0  \n",
       "14490        Diploma          Other             0.0  \n",
       "14624        Diploma         Single             0.0  \n",
       "\n",
       "[150 rows x 21 columns]"
      ]
     },
     "execution_count": 11,
     "metadata": {},
     "output_type": "execute_result"
    }
   ],
   "source": [
    "x_train[x_train['HomePage_Duration'].isnull()]"
   ]
  },
  {
   "cell_type": "code",
   "execution_count": 12,
   "id": "c8fa1ef2",
   "metadata": {
    "execution": {
     "iopub.execute_input": "2023-04-03T13:01:32.123864Z",
     "iopub.status.busy": "2023-04-03T13:01:32.123124Z",
     "iopub.status.idle": "2023-04-03T13:01:32.180490Z",
     "shell.execute_reply": "2023-04-03T13:01:32.178981Z"
    },
    "papermill": {
     "duration": 0.078557,
     "end_time": "2023-04-03T13:01:32.183127",
     "exception": false,
     "start_time": "2023-04-03T13:01:32.104570",
     "status": "completed"
    },
    "tags": []
   },
   "outputs": [
    {
     "data": {
      "text/html": [
       "<div>\n",
       "<style scoped>\n",
       "    .dataframe tbody tr th:only-of-type {\n",
       "        vertical-align: middle;\n",
       "    }\n",
       "\n",
       "    .dataframe tbody tr th {\n",
       "        vertical-align: top;\n",
       "    }\n",
       "\n",
       "    .dataframe thead th {\n",
       "        text-align: right;\n",
       "    }\n",
       "</style>\n",
       "<table border=\"1\" class=\"dataframe\">\n",
       "  <thead>\n",
       "    <tr style=\"text-align: right;\">\n",
       "      <th></th>\n",
       "      <th>HomePage</th>\n",
       "      <th>HomePage_Duration</th>\n",
       "      <th>LandingPage</th>\n",
       "      <th>LandingPage_Duration</th>\n",
       "      <th>ProductDescriptionPage</th>\n",
       "      <th>ProductDescriptionPage_Duration</th>\n",
       "      <th>GoogleMetric:Bounce Rates</th>\n",
       "      <th>GoogleMetric:Exit Rates</th>\n",
       "      <th>GoogleMetric:Page Values</th>\n",
       "      <th>SeasonalPurchase</th>\n",
       "      <th>...</th>\n",
       "      <th>OS</th>\n",
       "      <th>SearchEngine</th>\n",
       "      <th>Zone</th>\n",
       "      <th>Type of Traffic</th>\n",
       "      <th>CustomerType</th>\n",
       "      <th>Gender</th>\n",
       "      <th>Cookies Setting</th>\n",
       "      <th>Education</th>\n",
       "      <th>Marital Status</th>\n",
       "      <th>WeekendPurchase</th>\n",
       "    </tr>\n",
       "  </thead>\n",
       "  <tbody>\n",
       "    <tr>\n",
       "      <th>8660</th>\n",
       "      <td>0.0</td>\n",
       "      <td>NaN</td>\n",
       "      <td>0.0</td>\n",
       "      <td>0.0</td>\n",
       "      <td>11.0</td>\n",
       "      <td>115.250000</td>\n",
       "      <td>0.027273</td>\n",
       "      <td>0.045455</td>\n",
       "      <td>0.0</td>\n",
       "      <td>0.0</td>\n",
       "      <td>...</td>\n",
       "      <td>3.0</td>\n",
       "      <td>2.0</td>\n",
       "      <td>9.0</td>\n",
       "      <td>10.0</td>\n",
       "      <td>New_Visitor</td>\n",
       "      <td>Not Specified</td>\n",
       "      <td>ALL</td>\n",
       "      <td>Not Specified</td>\n",
       "      <td>Single</td>\n",
       "      <td>1.0</td>\n",
       "    </tr>\n",
       "    <tr>\n",
       "      <th>8668</th>\n",
       "      <td>0.0</td>\n",
       "      <td>NaN</td>\n",
       "      <td>0.0</td>\n",
       "      <td>0.0</td>\n",
       "      <td>23.0</td>\n",
       "      <td>647.142857</td>\n",
       "      <td>0.004348</td>\n",
       "      <td>0.022222</td>\n",
       "      <td>0.0</td>\n",
       "      <td>0.0</td>\n",
       "      <td>...</td>\n",
       "      <td>1.0</td>\n",
       "      <td>8.0</td>\n",
       "      <td>1.0</td>\n",
       "      <td>11.0</td>\n",
       "      <td>Returning_Visitor</td>\n",
       "      <td>Male</td>\n",
       "      <td>Required</td>\n",
       "      <td>Diploma</td>\n",
       "      <td>Other</td>\n",
       "      <td>1.0</td>\n",
       "    </tr>\n",
       "    <tr>\n",
       "      <th>8691</th>\n",
       "      <td>0.0</td>\n",
       "      <td>NaN</td>\n",
       "      <td>0.0</td>\n",
       "      <td>0.0</td>\n",
       "      <td>39.0</td>\n",
       "      <td>1168.619841</td>\n",
       "      <td>0.000000</td>\n",
       "      <td>0.009064</td>\n",
       "      <td>0.0</td>\n",
       "      <td>0.0</td>\n",
       "      <td>...</td>\n",
       "      <td>1.0</td>\n",
       "      <td>1.0</td>\n",
       "      <td>4.0</td>\n",
       "      <td>3.0</td>\n",
       "      <td>Returning_Visitor</td>\n",
       "      <td>Not Specified</td>\n",
       "      <td>Deny</td>\n",
       "      <td>Diploma</td>\n",
       "      <td>Single</td>\n",
       "      <td>0.0</td>\n",
       "    </tr>\n",
       "    <tr>\n",
       "      <th>8727</th>\n",
       "      <td>0.0</td>\n",
       "      <td>NaN</td>\n",
       "      <td>0.0</td>\n",
       "      <td>0.0</td>\n",
       "      <td>17.0</td>\n",
       "      <td>289.555556</td>\n",
       "      <td>0.017647</td>\n",
       "      <td>0.031373</td>\n",
       "      <td>0.0</td>\n",
       "      <td>0.0</td>\n",
       "      <td>...</td>\n",
       "      <td>1.0</td>\n",
       "      <td>1.0</td>\n",
       "      <td>1.0</td>\n",
       "      <td>10.0</td>\n",
       "      <td>Returning_Visitor</td>\n",
       "      <td>Female</td>\n",
       "      <td>Deny</td>\n",
       "      <td>Graduate</td>\n",
       "      <td>Other</td>\n",
       "      <td>0.0</td>\n",
       "    </tr>\n",
       "    <tr>\n",
       "      <th>8740</th>\n",
       "      <td>0.0</td>\n",
       "      <td>NaN</td>\n",
       "      <td>0.0</td>\n",
       "      <td>0.0</td>\n",
       "      <td>3.0</td>\n",
       "      <td>2251.280000</td>\n",
       "      <td>0.095833</td>\n",
       "      <td>0.137427</td>\n",
       "      <td>0.0</td>\n",
       "      <td>0.0</td>\n",
       "      <td>...</td>\n",
       "      <td>3.0</td>\n",
       "      <td>2.0</td>\n",
       "      <td>1.0</td>\n",
       "      <td>13.0</td>\n",
       "      <td>Returning_Visitor</td>\n",
       "      <td>Male</td>\n",
       "      <td>ALL</td>\n",
       "      <td>Graduate</td>\n",
       "      <td>Single</td>\n",
       "      <td>0.0</td>\n",
       "    </tr>\n",
       "    <tr>\n",
       "      <th>...</th>\n",
       "      <td>...</td>\n",
       "      <td>...</td>\n",
       "      <td>...</td>\n",
       "      <td>...</td>\n",
       "      <td>...</td>\n",
       "      <td>...</td>\n",
       "      <td>...</td>\n",
       "      <td>...</td>\n",
       "      <td>...</td>\n",
       "      <td>...</td>\n",
       "      <td>...</td>\n",
       "      <td>...</td>\n",
       "      <td>...</td>\n",
       "      <td>...</td>\n",
       "      <td>...</td>\n",
       "      <td>...</td>\n",
       "      <td>...</td>\n",
       "      <td>...</td>\n",
       "      <td>...</td>\n",
       "      <td>...</td>\n",
       "      <td>...</td>\n",
       "    </tr>\n",
       "    <tr>\n",
       "      <th>13770</th>\n",
       "      <td>0.0</td>\n",
       "      <td>NaN</td>\n",
       "      <td>0.0</td>\n",
       "      <td>0.0</td>\n",
       "      <td>28.0</td>\n",
       "      <td>1555.601212</td>\n",
       "      <td>0.000000</td>\n",
       "      <td>0.009511</td>\n",
       "      <td>0.0</td>\n",
       "      <td>0.0</td>\n",
       "      <td>...</td>\n",
       "      <td>3.0</td>\n",
       "      <td>2.0</td>\n",
       "      <td>2.0</td>\n",
       "      <td>2.0</td>\n",
       "      <td>Returning_Visitor</td>\n",
       "      <td>Male</td>\n",
       "      <td>ALL</td>\n",
       "      <td>Diploma</td>\n",
       "      <td>Married</td>\n",
       "      <td>0.0</td>\n",
       "    </tr>\n",
       "    <tr>\n",
       "      <th>14024</th>\n",
       "      <td>0.0</td>\n",
       "      <td>NaN</td>\n",
       "      <td>0.0</td>\n",
       "      <td>0.0</td>\n",
       "      <td>1.0</td>\n",
       "      <td>0.000000</td>\n",
       "      <td>0.200000</td>\n",
       "      <td>0.200000</td>\n",
       "      <td>0.0</td>\n",
       "      <td>0.0</td>\n",
       "      <td>...</td>\n",
       "      <td>2.0</td>\n",
       "      <td>2.0</td>\n",
       "      <td>1.0</td>\n",
       "      <td>10.0</td>\n",
       "      <td>Returning_Visitor</td>\n",
       "      <td>Female</td>\n",
       "      <td>Deny</td>\n",
       "      <td>Not Specified</td>\n",
       "      <td>Other</td>\n",
       "      <td>0.0</td>\n",
       "    </tr>\n",
       "    <tr>\n",
       "      <th>14281</th>\n",
       "      <td>0.0</td>\n",
       "      <td>NaN</td>\n",
       "      <td>2.0</td>\n",
       "      <td>157.5</td>\n",
       "      <td>35.0</td>\n",
       "      <td>5999.808333</td>\n",
       "      <td>0.005405</td>\n",
       "      <td>0.027207</td>\n",
       "      <td>0.0</td>\n",
       "      <td>0.0</td>\n",
       "      <td>...</td>\n",
       "      <td>2.0</td>\n",
       "      <td>2.0</td>\n",
       "      <td>4.0</td>\n",
       "      <td>1.0</td>\n",
       "      <td>Returning_Visitor</td>\n",
       "      <td>Not Specified</td>\n",
       "      <td>Deny</td>\n",
       "      <td>Others</td>\n",
       "      <td>Married</td>\n",
       "      <td>1.0</td>\n",
       "    </tr>\n",
       "    <tr>\n",
       "      <th>14314</th>\n",
       "      <td>0.0</td>\n",
       "      <td>NaN</td>\n",
       "      <td>0.0</td>\n",
       "      <td>0.0</td>\n",
       "      <td>11.0</td>\n",
       "      <td>684.333333</td>\n",
       "      <td>0.018182</td>\n",
       "      <td>0.063636</td>\n",
       "      <td>0.0</td>\n",
       "      <td>0.0</td>\n",
       "      <td>...</td>\n",
       "      <td>2.0</td>\n",
       "      <td>4.0</td>\n",
       "      <td>6.0</td>\n",
       "      <td>1.0</td>\n",
       "      <td>Returning_Visitor</td>\n",
       "      <td>Not Specified</td>\n",
       "      <td>ALL</td>\n",
       "      <td>Not Specified</td>\n",
       "      <td>Single</td>\n",
       "      <td>0.0</td>\n",
       "    </tr>\n",
       "    <tr>\n",
       "      <th>14624</th>\n",
       "      <td>0.0</td>\n",
       "      <td>NaN</td>\n",
       "      <td>0.0</td>\n",
       "      <td>0.0</td>\n",
       "      <td>6.0</td>\n",
       "      <td>0.000000</td>\n",
       "      <td>0.200000</td>\n",
       "      <td>0.200000</td>\n",
       "      <td>0.0</td>\n",
       "      <td>0.0</td>\n",
       "      <td>...</td>\n",
       "      <td>1.0</td>\n",
       "      <td>8.0</td>\n",
       "      <td>4.0</td>\n",
       "      <td>1.0</td>\n",
       "      <td>Returning_Visitor</td>\n",
       "      <td>Female</td>\n",
       "      <td>Required</td>\n",
       "      <td>Diploma</td>\n",
       "      <td>Single</td>\n",
       "      <td>0.0</td>\n",
       "    </tr>\n",
       "  </tbody>\n",
       "</table>\n",
       "<p>73 rows × 21 columns</p>\n",
       "</div>"
      ],
      "text/plain": [
       "       HomePage  HomePage_Duration  LandingPage  LandingPage_Duration  \\\n",
       "8660        0.0                NaN          0.0                   0.0   \n",
       "8668        0.0                NaN          0.0                   0.0   \n",
       "8691        0.0                NaN          0.0                   0.0   \n",
       "8727        0.0                NaN          0.0                   0.0   \n",
       "8740        0.0                NaN          0.0                   0.0   \n",
       "...         ...                ...          ...                   ...   \n",
       "13770       0.0                NaN          0.0                   0.0   \n",
       "14024       0.0                NaN          0.0                   0.0   \n",
       "14281       0.0                NaN          2.0                 157.5   \n",
       "14314       0.0                NaN          0.0                   0.0   \n",
       "14624       0.0                NaN          0.0                   0.0   \n",
       "\n",
       "       ProductDescriptionPage  ProductDescriptionPage_Duration  \\\n",
       "8660                     11.0                       115.250000   \n",
       "8668                     23.0                       647.142857   \n",
       "8691                     39.0                      1168.619841   \n",
       "8727                     17.0                       289.555556   \n",
       "8740                      3.0                      2251.280000   \n",
       "...                       ...                              ...   \n",
       "13770                    28.0                      1555.601212   \n",
       "14024                     1.0                         0.000000   \n",
       "14281                    35.0                      5999.808333   \n",
       "14314                    11.0                       684.333333   \n",
       "14624                     6.0                         0.000000   \n",
       "\n",
       "       GoogleMetric:Bounce Rates  GoogleMetric:Exit Rates  \\\n",
       "8660                    0.027273                 0.045455   \n",
       "8668                    0.004348                 0.022222   \n",
       "8691                    0.000000                 0.009064   \n",
       "8727                    0.017647                 0.031373   \n",
       "8740                    0.095833                 0.137427   \n",
       "...                          ...                      ...   \n",
       "13770                   0.000000                 0.009511   \n",
       "14024                   0.200000                 0.200000   \n",
       "14281                   0.005405                 0.027207   \n",
       "14314                   0.018182                 0.063636   \n",
       "14624                   0.200000                 0.200000   \n",
       "\n",
       "       GoogleMetric:Page Values  SeasonalPurchase  ...   OS SearchEngine Zone  \\\n",
       "8660                        0.0               0.0  ...  3.0          2.0  9.0   \n",
       "8668                        0.0               0.0  ...  1.0          8.0  1.0   \n",
       "8691                        0.0               0.0  ...  1.0          1.0  4.0   \n",
       "8727                        0.0               0.0  ...  1.0          1.0  1.0   \n",
       "8740                        0.0               0.0  ...  3.0          2.0  1.0   \n",
       "...                         ...               ...  ...  ...          ...  ...   \n",
       "13770                       0.0               0.0  ...  3.0          2.0  2.0   \n",
       "14024                       0.0               0.0  ...  2.0          2.0  1.0   \n",
       "14281                       0.0               0.0  ...  2.0          2.0  4.0   \n",
       "14314                       0.0               0.0  ...  2.0          4.0  6.0   \n",
       "14624                       0.0               0.0  ...  1.0          8.0  4.0   \n",
       "\n",
       "      Type of Traffic       CustomerType         Gender Cookies Setting  \\\n",
       "8660             10.0        New_Visitor  Not Specified             ALL   \n",
       "8668             11.0  Returning_Visitor           Male        Required   \n",
       "8691              3.0  Returning_Visitor  Not Specified            Deny   \n",
       "8727             10.0  Returning_Visitor         Female            Deny   \n",
       "8740             13.0  Returning_Visitor           Male             ALL   \n",
       "...               ...                ...            ...             ...   \n",
       "13770             2.0  Returning_Visitor           Male             ALL   \n",
       "14024            10.0  Returning_Visitor         Female            Deny   \n",
       "14281             1.0  Returning_Visitor  Not Specified            Deny   \n",
       "14314             1.0  Returning_Visitor  Not Specified             ALL   \n",
       "14624             1.0  Returning_Visitor         Female        Required   \n",
       "\n",
       "           Education Marital Status WeekendPurchase  \n",
       "8660   Not Specified         Single             1.0  \n",
       "8668         Diploma          Other             1.0  \n",
       "8691         Diploma         Single             0.0  \n",
       "8727        Graduate          Other             0.0  \n",
       "8740        Graduate         Single             0.0  \n",
       "...              ...            ...             ...  \n",
       "13770        Diploma        Married             0.0  \n",
       "14024  Not Specified          Other             0.0  \n",
       "14281         Others        Married             1.0  \n",
       "14314  Not Specified         Single             0.0  \n",
       "14624        Diploma         Single             0.0  \n",
       "\n",
       "[73 rows x 21 columns]"
      ]
     },
     "execution_count": 12,
     "metadata": {},
     "output_type": "execute_result"
    }
   ],
   "source": [
    "x_train.query('HomePage==0 & HomePage_Duration!=0')"
   ]
  },
  {
   "cell_type": "code",
   "execution_count": 13,
   "id": "61361282",
   "metadata": {
    "execution": {
     "iopub.execute_input": "2023-04-03T13:01:32.222624Z",
     "iopub.status.busy": "2023-04-03T13:01:32.221850Z",
     "iopub.status.idle": "2023-04-03T13:01:32.235166Z",
     "shell.execute_reply": "2023-04-03T13:01:32.233715Z"
    },
    "papermill": {
     "duration": 0.036038,
     "end_time": "2023-04-03T13:01:32.238058",
     "exception": false,
     "start_time": "2023-04-03T13:01:32.202020",
     "status": "completed"
    },
    "tags": []
   },
   "outputs": [],
   "source": [
    "#homepage=0 => but duration!=0 replacing duration with 0\n",
    "#impute\n",
    "x_train.loc[x_train[\"HomePage\"]==0,\"HomePage_Duration\"]=0\n",
    "x_train.loc[x_train[\"LandingPage\"]==0,\"LandingPage_Duration\"]=0\n",
    "x_train.loc[x_train[\"ProductDescriptionPage\"]==0,\"ProductDescriptionPage_Duration\"]=0\n",
    "x_test.loc[x_test[\"HomePage\"]==0,\"HomePage_Duration\"]=0\n",
    "x_test.loc[x_test[\"LandingPage\"]==0,\"LandingPage_Duration\"]=0\n",
    "x_test.loc[x_test[\"ProductDescriptionPage\"]==0,\"ProductDescriptionPage_Duration\"]=0"
   ]
  },
  {
   "cell_type": "code",
   "execution_count": 14,
   "id": "08c09791",
   "metadata": {
    "execution": {
     "iopub.execute_input": "2023-04-03T13:01:32.277766Z",
     "iopub.status.busy": "2023-04-03T13:01:32.276968Z",
     "iopub.status.idle": "2023-04-03T13:01:32.292889Z",
     "shell.execute_reply": "2023-04-03T13:01:32.291666Z"
    },
    "papermill": {
     "duration": 0.037916,
     "end_time": "2023-04-03T13:01:32.295377",
     "exception": false,
     "start_time": "2023-04-03T13:01:32.257461",
     "status": "completed"
    },
    "tags": []
   },
   "outputs": [
    {
     "data": {
      "text/plain": [
       "HomePage                           153\n",
       "HomePage_Duration                   78\n",
       "LandingPage                        153\n",
       "LandingPage_Duration                35\n",
       "ProductDescriptionPage             123\n",
       "ProductDescriptionPage_Duration    167\n",
       "GoogleMetric:Bounce Rates          151\n",
       "GoogleMetric:Exit Rates            129\n",
       "GoogleMetric:Page Values           132\n",
       "SeasonalPurchase                   150\n",
       "Month_SeasonalPurchase             144\n",
       "OS                                 134\n",
       "SearchEngine                       122\n",
       "Zone                               117\n",
       "Type of Traffic                    143\n",
       "CustomerType                       144\n",
       "Gender                             145\n",
       "Cookies Setting                    144\n",
       "Education                          136\n",
       "Marital Status                     130\n",
       "WeekendPurchase                    121\n",
       "dtype: int64"
      ]
     },
     "execution_count": 14,
     "metadata": {},
     "output_type": "execute_result"
    }
   ],
   "source": [
    "x_train.isnull().sum()"
   ]
  },
  {
   "cell_type": "code",
   "execution_count": 15,
   "id": "7540888b",
   "metadata": {
    "execution": {
     "iopub.execute_input": "2023-04-03T13:01:32.332762Z",
     "iopub.status.busy": "2023-04-03T13:01:32.332088Z",
     "iopub.status.idle": "2023-04-03T13:01:32.377834Z",
     "shell.execute_reply": "2023-04-03T13:01:32.376615Z"
    },
    "papermill": {
     "duration": 0.067848,
     "end_time": "2023-04-03T13:01:32.380457",
     "exception": false,
     "start_time": "2023-04-03T13:01:32.312609",
     "status": "completed"
    },
    "tags": []
   },
   "outputs": [
    {
     "data": {
      "text/html": [
       "<div>\n",
       "<style scoped>\n",
       "    .dataframe tbody tr th:only-of-type {\n",
       "        vertical-align: middle;\n",
       "    }\n",
       "\n",
       "    .dataframe tbody tr th {\n",
       "        vertical-align: top;\n",
       "    }\n",
       "\n",
       "    .dataframe thead th {\n",
       "        text-align: right;\n",
       "    }\n",
       "</style>\n",
       "<table border=\"1\" class=\"dataframe\">\n",
       "  <thead>\n",
       "    <tr style=\"text-align: right;\">\n",
       "      <th></th>\n",
       "      <th>HomePage</th>\n",
       "      <th>HomePage_Duration</th>\n",
       "      <th>LandingPage</th>\n",
       "      <th>LandingPage_Duration</th>\n",
       "      <th>ProductDescriptionPage</th>\n",
       "      <th>ProductDescriptionPage_Duration</th>\n",
       "      <th>GoogleMetric:Bounce Rates</th>\n",
       "      <th>GoogleMetric:Exit Rates</th>\n",
       "      <th>GoogleMetric:Page Values</th>\n",
       "      <th>SeasonalPurchase</th>\n",
       "      <th>...</th>\n",
       "      <th>OS</th>\n",
       "      <th>SearchEngine</th>\n",
       "      <th>Zone</th>\n",
       "      <th>Type of Traffic</th>\n",
       "      <th>CustomerType</th>\n",
       "      <th>Gender</th>\n",
       "      <th>Cookies Setting</th>\n",
       "      <th>Education</th>\n",
       "      <th>Marital Status</th>\n",
       "      <th>WeekendPurchase</th>\n",
       "    </tr>\n",
       "  </thead>\n",
       "  <tbody>\n",
       "    <tr>\n",
       "      <th>8661</th>\n",
       "      <td>0.0</td>\n",
       "      <td>0.00</td>\n",
       "      <td>NaN</td>\n",
       "      <td>0.0</td>\n",
       "      <td>10.0</td>\n",
       "      <td>194.000000</td>\n",
       "      <td>0.020000</td>\n",
       "      <td>0.040000</td>\n",
       "      <td>0.000000</td>\n",
       "      <td>0.0</td>\n",
       "      <td>...</td>\n",
       "      <td>2.0</td>\n",
       "      <td>5.0</td>\n",
       "      <td>7.0</td>\n",
       "      <td>1.0</td>\n",
       "      <td>Returning_Visitor</td>\n",
       "      <td>Not Specified</td>\n",
       "      <td>ALL</td>\n",
       "      <td>Not Specified</td>\n",
       "      <td>Other</td>\n",
       "      <td>0.0</td>\n",
       "    </tr>\n",
       "    <tr>\n",
       "      <th>8670</th>\n",
       "      <td>0.0</td>\n",
       "      <td>0.00</td>\n",
       "      <td>NaN</td>\n",
       "      <td>0.0</td>\n",
       "      <td>40.0</td>\n",
       "      <td>1385.666667</td>\n",
       "      <td>0.005000</td>\n",
       "      <td>0.022500</td>\n",
       "      <td>0.000000</td>\n",
       "      <td>0.0</td>\n",
       "      <td>...</td>\n",
       "      <td>2.0</td>\n",
       "      <td>2.0</td>\n",
       "      <td>1.0</td>\n",
       "      <td>1.0</td>\n",
       "      <td>Returning_Visitor</td>\n",
       "      <td>Not Specified</td>\n",
       "      <td>Required</td>\n",
       "      <td>Diploma</td>\n",
       "      <td>Other</td>\n",
       "      <td>0.0</td>\n",
       "    </tr>\n",
       "    <tr>\n",
       "      <th>8695</th>\n",
       "      <td>0.0</td>\n",
       "      <td>0.00</td>\n",
       "      <td>NaN</td>\n",
       "      <td>0.0</td>\n",
       "      <td>20.0</td>\n",
       "      <td>2065.150000</td>\n",
       "      <td>0.005000</td>\n",
       "      <td>0.034444</td>\n",
       "      <td>0.000000</td>\n",
       "      <td>0.8</td>\n",
       "      <td>...</td>\n",
       "      <td>1.0</td>\n",
       "      <td>1.0</td>\n",
       "      <td>1.0</td>\n",
       "      <td>3.0</td>\n",
       "      <td>Returning_Visitor</td>\n",
       "      <td>Male</td>\n",
       "      <td>Required</td>\n",
       "      <td>Not Specified</td>\n",
       "      <td>Other</td>\n",
       "      <td>0.0</td>\n",
       "    </tr>\n",
       "    <tr>\n",
       "      <th>8712</th>\n",
       "      <td>0.0</td>\n",
       "      <td>0.00</td>\n",
       "      <td>NaN</td>\n",
       "      <td>0.0</td>\n",
       "      <td>8.0</td>\n",
       "      <td>41.133333</td>\n",
       "      <td>0.025000</td>\n",
       "      <td>0.062500</td>\n",
       "      <td>0.000000</td>\n",
       "      <td>0.0</td>\n",
       "      <td>...</td>\n",
       "      <td>2.0</td>\n",
       "      <td>2.0</td>\n",
       "      <td>9.0</td>\n",
       "      <td>1.0</td>\n",
       "      <td>Returning_Visitor</td>\n",
       "      <td>Female</td>\n",
       "      <td>Deny</td>\n",
       "      <td>Others</td>\n",
       "      <td>Single</td>\n",
       "      <td>0.0</td>\n",
       "    </tr>\n",
       "    <tr>\n",
       "      <th>8729</th>\n",
       "      <td>4.0</td>\n",
       "      <td>26.00</td>\n",
       "      <td>NaN</td>\n",
       "      <td>0.0</td>\n",
       "      <td>235.0</td>\n",
       "      <td>10046.807710</td>\n",
       "      <td>0.007671</td>\n",
       "      <td>0.022528</td>\n",
       "      <td>0.000000</td>\n",
       "      <td>0.0</td>\n",
       "      <td>...</td>\n",
       "      <td>2.0</td>\n",
       "      <td>2.0</td>\n",
       "      <td>1.0</td>\n",
       "      <td>2.0</td>\n",
       "      <td>Returning_Visitor</td>\n",
       "      <td>Not Specified</td>\n",
       "      <td>ALL</td>\n",
       "      <td>Diploma</td>\n",
       "      <td>Other</td>\n",
       "      <td>0.0</td>\n",
       "    </tr>\n",
       "    <tr>\n",
       "      <th>...</th>\n",
       "      <td>...</td>\n",
       "      <td>...</td>\n",
       "      <td>...</td>\n",
       "      <td>...</td>\n",
       "      <td>...</td>\n",
       "      <td>...</td>\n",
       "      <td>...</td>\n",
       "      <td>...</td>\n",
       "      <td>...</td>\n",
       "      <td>...</td>\n",
       "      <td>...</td>\n",
       "      <td>...</td>\n",
       "      <td>...</td>\n",
       "      <td>...</td>\n",
       "      <td>...</td>\n",
       "      <td>...</td>\n",
       "      <td>...</td>\n",
       "      <td>...</td>\n",
       "      <td>...</td>\n",
       "      <td>...</td>\n",
       "      <td>...</td>\n",
       "    </tr>\n",
       "    <tr>\n",
       "      <th>14205</th>\n",
       "      <td>3.0</td>\n",
       "      <td>285.20</td>\n",
       "      <td>NaN</td>\n",
       "      <td>0.0</td>\n",
       "      <td>23.0</td>\n",
       "      <td>619.480000</td>\n",
       "      <td>0.007692</td>\n",
       "      <td>0.034615</td>\n",
       "      <td>8.342756</td>\n",
       "      <td>0.0</td>\n",
       "      <td>...</td>\n",
       "      <td>2.0</td>\n",
       "      <td>4.0</td>\n",
       "      <td>2.0</td>\n",
       "      <td>4.0</td>\n",
       "      <td>Returning_Visitor</td>\n",
       "      <td>Not Specified</td>\n",
       "      <td>Deny</td>\n",
       "      <td>Not Specified</td>\n",
       "      <td>Married</td>\n",
       "      <td>0.0</td>\n",
       "    </tr>\n",
       "    <tr>\n",
       "      <th>14335</th>\n",
       "      <td>0.0</td>\n",
       "      <td>0.00</td>\n",
       "      <td>NaN</td>\n",
       "      <td>0.0</td>\n",
       "      <td>17.0</td>\n",
       "      <td>290.833333</td>\n",
       "      <td>0.000000</td>\n",
       "      <td>0.012500</td>\n",
       "      <td>0.000000</td>\n",
       "      <td>0.4</td>\n",
       "      <td>...</td>\n",
       "      <td>2.0</td>\n",
       "      <td>2.0</td>\n",
       "      <td>3.0</td>\n",
       "      <td>2.0</td>\n",
       "      <td>Returning_Visitor</td>\n",
       "      <td>Female</td>\n",
       "      <td>ALL</td>\n",
       "      <td>Not Specified</td>\n",
       "      <td>Married</td>\n",
       "      <td>0.0</td>\n",
       "    </tr>\n",
       "    <tr>\n",
       "      <th>14466</th>\n",
       "      <td>3.0</td>\n",
       "      <td>51.48</td>\n",
       "      <td>NaN</td>\n",
       "      <td>0.0</td>\n",
       "      <td>16.0</td>\n",
       "      <td>164.813333</td>\n",
       "      <td>0.038095</td>\n",
       "      <td>0.059913</td>\n",
       "      <td>0.000000</td>\n",
       "      <td>0.0</td>\n",
       "      <td>...</td>\n",
       "      <td>1.0</td>\n",
       "      <td>1.0</td>\n",
       "      <td>6.0</td>\n",
       "      <td>5.0</td>\n",
       "      <td>Returning_Visitor</td>\n",
       "      <td>Female</td>\n",
       "      <td>Required</td>\n",
       "      <td>Graduate</td>\n",
       "      <td>Single</td>\n",
       "      <td>1.0</td>\n",
       "    </tr>\n",
       "    <tr>\n",
       "      <th>14663</th>\n",
       "      <td>0.0</td>\n",
       "      <td>0.00</td>\n",
       "      <td>NaN</td>\n",
       "      <td>0.0</td>\n",
       "      <td>12.0</td>\n",
       "      <td>442.500000</td>\n",
       "      <td>0.000000</td>\n",
       "      <td>0.008333</td>\n",
       "      <td>0.000000</td>\n",
       "      <td>0.0</td>\n",
       "      <td>...</td>\n",
       "      <td>2.0</td>\n",
       "      <td>2.0</td>\n",
       "      <td>1.0</td>\n",
       "      <td>2.0</td>\n",
       "      <td>New_Visitor</td>\n",
       "      <td>Not Specified</td>\n",
       "      <td>ALL</td>\n",
       "      <td>Not Specified</td>\n",
       "      <td>Single</td>\n",
       "      <td>0.0</td>\n",
       "    </tr>\n",
       "    <tr>\n",
       "      <th>14679</th>\n",
       "      <td>0.0</td>\n",
       "      <td>0.00</td>\n",
       "      <td>NaN</td>\n",
       "      <td>0.0</td>\n",
       "      <td>17.0</td>\n",
       "      <td>472.900000</td>\n",
       "      <td>0.012500</td>\n",
       "      <td>0.025000</td>\n",
       "      <td>0.000000</td>\n",
       "      <td>0.0</td>\n",
       "      <td>...</td>\n",
       "      <td>3.0</td>\n",
       "      <td>2.0</td>\n",
       "      <td>3.0</td>\n",
       "      <td>1.0</td>\n",
       "      <td>Returning_Visitor</td>\n",
       "      <td>Male</td>\n",
       "      <td>ALL</td>\n",
       "      <td>Diploma</td>\n",
       "      <td>Single</td>\n",
       "      <td>0.0</td>\n",
       "    </tr>\n",
       "  </tbody>\n",
       "</table>\n",
       "<p>120 rows × 21 columns</p>\n",
       "</div>"
      ],
      "text/plain": [
       "       HomePage  HomePage_Duration  LandingPage  LandingPage_Duration  \\\n",
       "8661        0.0               0.00          NaN                   0.0   \n",
       "8670        0.0               0.00          NaN                   0.0   \n",
       "8695        0.0               0.00          NaN                   0.0   \n",
       "8712        0.0               0.00          NaN                   0.0   \n",
       "8729        4.0              26.00          NaN                   0.0   \n",
       "...         ...                ...          ...                   ...   \n",
       "14205       3.0             285.20          NaN                   0.0   \n",
       "14335       0.0               0.00          NaN                   0.0   \n",
       "14466       3.0              51.48          NaN                   0.0   \n",
       "14663       0.0               0.00          NaN                   0.0   \n",
       "14679       0.0               0.00          NaN                   0.0   \n",
       "\n",
       "       ProductDescriptionPage  ProductDescriptionPage_Duration  \\\n",
       "8661                     10.0                       194.000000   \n",
       "8670                     40.0                      1385.666667   \n",
       "8695                     20.0                      2065.150000   \n",
       "8712                      8.0                        41.133333   \n",
       "8729                    235.0                     10046.807710   \n",
       "...                       ...                              ...   \n",
       "14205                    23.0                       619.480000   \n",
       "14335                    17.0                       290.833333   \n",
       "14466                    16.0                       164.813333   \n",
       "14663                    12.0                       442.500000   \n",
       "14679                    17.0                       472.900000   \n",
       "\n",
       "       GoogleMetric:Bounce Rates  GoogleMetric:Exit Rates  \\\n",
       "8661                    0.020000                 0.040000   \n",
       "8670                    0.005000                 0.022500   \n",
       "8695                    0.005000                 0.034444   \n",
       "8712                    0.025000                 0.062500   \n",
       "8729                    0.007671                 0.022528   \n",
       "...                          ...                      ...   \n",
       "14205                   0.007692                 0.034615   \n",
       "14335                   0.000000                 0.012500   \n",
       "14466                   0.038095                 0.059913   \n",
       "14663                   0.000000                 0.008333   \n",
       "14679                   0.012500                 0.025000   \n",
       "\n",
       "       GoogleMetric:Page Values  SeasonalPurchase  ...   OS SearchEngine Zone  \\\n",
       "8661                   0.000000               0.0  ...  2.0          5.0  7.0   \n",
       "8670                   0.000000               0.0  ...  2.0          2.0  1.0   \n",
       "8695                   0.000000               0.8  ...  1.0          1.0  1.0   \n",
       "8712                   0.000000               0.0  ...  2.0          2.0  9.0   \n",
       "8729                   0.000000               0.0  ...  2.0          2.0  1.0   \n",
       "...                         ...               ...  ...  ...          ...  ...   \n",
       "14205                  8.342756               0.0  ...  2.0          4.0  2.0   \n",
       "14335                  0.000000               0.4  ...  2.0          2.0  3.0   \n",
       "14466                  0.000000               0.0  ...  1.0          1.0  6.0   \n",
       "14663                  0.000000               0.0  ...  2.0          2.0  1.0   \n",
       "14679                  0.000000               0.0  ...  3.0          2.0  3.0   \n",
       "\n",
       "      Type of Traffic       CustomerType         Gender Cookies Setting  \\\n",
       "8661              1.0  Returning_Visitor  Not Specified             ALL   \n",
       "8670              1.0  Returning_Visitor  Not Specified        Required   \n",
       "8695              3.0  Returning_Visitor           Male        Required   \n",
       "8712              1.0  Returning_Visitor         Female            Deny   \n",
       "8729              2.0  Returning_Visitor  Not Specified             ALL   \n",
       "...               ...                ...            ...             ...   \n",
       "14205             4.0  Returning_Visitor  Not Specified            Deny   \n",
       "14335             2.0  Returning_Visitor         Female             ALL   \n",
       "14466             5.0  Returning_Visitor         Female        Required   \n",
       "14663             2.0        New_Visitor  Not Specified             ALL   \n",
       "14679             1.0  Returning_Visitor           Male             ALL   \n",
       "\n",
       "           Education Marital Status WeekendPurchase  \n",
       "8661   Not Specified          Other             0.0  \n",
       "8670         Diploma          Other             0.0  \n",
       "8695   Not Specified          Other             0.0  \n",
       "8712          Others         Single             0.0  \n",
       "8729         Diploma          Other             0.0  \n",
       "...              ...            ...             ...  \n",
       "14205  Not Specified        Married             0.0  \n",
       "14335  Not Specified        Married             0.0  \n",
       "14466       Graduate         Single             1.0  \n",
       "14663  Not Specified         Single             0.0  \n",
       "14679        Diploma         Single             0.0  \n",
       "\n",
       "[120 rows x 21 columns]"
      ]
     },
     "execution_count": 15,
     "metadata": {},
     "output_type": "execute_result"
    }
   ],
   "source": [
    "x_train[(x_train[\"LandingPage_Duration\"]==0) & (x_train[\"LandingPage\"].isna())]"
   ]
  },
  {
   "cell_type": "code",
   "execution_count": 16,
   "id": "d1213191",
   "metadata": {
    "execution": {
     "iopub.execute_input": "2023-04-03T13:01:32.420403Z",
     "iopub.status.busy": "2023-04-03T13:01:32.419956Z",
     "iopub.status.idle": "2023-04-03T13:01:32.443323Z",
     "shell.execute_reply": "2023-04-03T13:01:32.442195Z"
    },
    "papermill": {
     "duration": 0.047099,
     "end_time": "2023-04-03T13:01:32.446536",
     "exception": false,
     "start_time": "2023-04-03T13:01:32.399437",
     "status": "completed"
    },
    "tags": []
   },
   "outputs": [],
   "source": [
    "dataframe3=x_train.query('LandingPage!=0 & LandingPage_Duration==0')\n",
    "dataframe4=x_train.query('HomePage!=0 & HomePage_Duration==0')\n",
    "dataframe5=x_train.query('ProductDescriptionPage!=0 & ProductDescriptionPage_Duration==0')"
   ]
  },
  {
   "cell_type": "code",
   "execution_count": 17,
   "id": "c5309a5e",
   "metadata": {
    "execution": {
     "iopub.execute_input": "2023-04-03T13:01:32.485971Z",
     "iopub.status.busy": "2023-04-03T13:01:32.485564Z",
     "iopub.status.idle": "2023-04-03T13:01:32.498773Z",
     "shell.execute_reply": "2023-04-03T13:01:32.497360Z"
    },
    "papermill": {
     "duration": 0.038299,
     "end_time": "2023-04-03T13:01:32.503369",
     "exception": false,
     "start_time": "2023-04-03T13:01:32.465070",
     "status": "completed"
    },
    "tags": []
   },
   "outputs": [
    {
     "name": "stdout",
     "output_type": "stream",
     "text": [
      "1.0    248\n",
      "2.0     12\n",
      "Name: LandingPage, dtype: int64 1.0    148\n",
      "2.0      4\n",
      "Name: HomePage, dtype: int64 1.0     696\n",
      "2.0     127\n",
      "3.0      48\n",
      "4.0      17\n",
      "5.0       5\n",
      "6.0       4\n",
      "13.0      2\n",
      "9.0       2\n",
      "10.0      2\n",
      "Name: ProductDescriptionPage, dtype: int64\n"
     ]
    }
   ],
   "source": [
    "print(dataframe3['LandingPage'].value_counts(),dataframe4['HomePage'].value_counts(),\n",
    "      dataframe5['ProductDescriptionPage'].value_counts())"
   ]
  },
  {
   "cell_type": "code",
   "execution_count": 18,
   "id": "ea6edb88",
   "metadata": {
    "execution": {
     "iopub.execute_input": "2023-04-03T13:01:32.545446Z",
     "iopub.status.busy": "2023-04-03T13:01:32.545000Z",
     "iopub.status.idle": "2023-04-03T13:01:32.561874Z",
     "shell.execute_reply": "2023-04-03T13:01:32.560888Z"
    },
    "papermill": {
     "duration": 0.04181,
     "end_time": "2023-04-03T13:01:32.564531",
     "exception": false,
     "start_time": "2023-04-03T13:01:32.522721",
     "status": "completed"
    },
    "tags": []
   },
   "outputs": [],
   "source": [
    "#setting pages values from nan to 1 when the duration is 0 \n",
    "#impute\n",
    "x_train.loc[x_train[\"LandingPage_Duration\"]==0 & x_train[\"LandingPage\"].isna(),\"LandingPage\"]=1\n",
    "x_train.loc[x_train[\"HomePage_Duration\"]==0 & x_train[\"HomePage\"].isna(),\"HomePage\"]=1\n",
    "x_train.loc[x_train[\"ProductDescriptionPage_Duration\"]==0 & x_train[\"ProductDescriptionPage\"].isna(),\"ProductDescriptionPage\"]=1\n",
    "x_test.loc[x_test[\"LandingPage_Duration\"]==0 & x_test[\"LandingPage\"].isna(),\"LandingPage\"]=1\n",
    "x_test.loc[x_test[\"HomePage_Duration\"]==0 & x_test[\"HomePage\"].isna(),\"HomePage\"]=1\n",
    "x_test.loc[x_test[\"ProductDescriptionPage_Duration\"]==0 & x_test[\"ProductDescriptionPage\"].isna(),\"ProductDescriptionPage\"]=1"
   ]
  },
  {
   "cell_type": "code",
   "execution_count": 19,
   "id": "91eab6aa",
   "metadata": {
    "execution": {
     "iopub.execute_input": "2023-04-03T13:01:32.603031Z",
     "iopub.status.busy": "2023-04-03T13:01:32.602593Z",
     "iopub.status.idle": "2023-04-03T13:01:32.618386Z",
     "shell.execute_reply": "2023-04-03T13:01:32.617142Z"
    },
    "papermill": {
     "duration": 0.038394,
     "end_time": "2023-04-03T13:01:32.621209",
     "exception": false,
     "start_time": "2023-04-03T13:01:32.582815",
     "status": "completed"
    },
    "tags": []
   },
   "outputs": [
    {
     "data": {
      "text/plain": [
       "HomePage                            79\n",
       "HomePage_Duration                   78\n",
       "LandingPage                         33\n",
       "LandingPage_Duration                35\n",
       "ProductDescriptionPage             115\n",
       "ProductDescriptionPage_Duration    167\n",
       "GoogleMetric:Bounce Rates          151\n",
       "GoogleMetric:Exit Rates            129\n",
       "GoogleMetric:Page Values           132\n",
       "SeasonalPurchase                   150\n",
       "Month_SeasonalPurchase             144\n",
       "OS                                 134\n",
       "SearchEngine                       122\n",
       "Zone                               117\n",
       "Type of Traffic                    143\n",
       "CustomerType                       144\n",
       "Gender                             145\n",
       "Cookies Setting                    144\n",
       "Education                          136\n",
       "Marital Status                     130\n",
       "WeekendPurchase                    121\n",
       "dtype: int64"
      ]
     },
     "execution_count": 19,
     "metadata": {},
     "output_type": "execute_result"
    }
   ],
   "source": [
    "x_train.isnull().sum()"
   ]
  },
  {
   "cell_type": "code",
   "execution_count": 20,
   "id": "b8ea5fc4",
   "metadata": {
    "execution": {
     "iopub.execute_input": "2023-04-03T13:01:32.660891Z",
     "iopub.status.busy": "2023-04-03T13:01:32.659612Z",
     "iopub.status.idle": "2023-04-03T13:01:32.666536Z",
     "shell.execute_reply": "2023-04-03T13:01:32.665614Z"
    },
    "papermill": {
     "duration": 0.02929,
     "end_time": "2023-04-03T13:01:32.668997",
     "exception": false,
     "start_time": "2023-04-03T13:01:32.639707",
     "status": "completed"
    },
    "tags": []
   },
   "outputs": [
    {
     "data": {
      "text/plain": [
       "\"#data visualization of numerical data\\nimport matplotlib.pyplot as plt\\nfor col in num_cols:\\n    plt.hist(x_train[col].values)\\n    plt.title(col,fontsize=15)\\n    plt.xlabel('Range',fontsize=15)\\n    plt.ylabel('Frequency',fontsize=15)\\n    plt.show()\\n\""
      ]
     },
     "execution_count": 20,
     "metadata": {},
     "output_type": "execute_result"
    }
   ],
   "source": [
    "\"\"\"#data visualization of numerical data\n",
    "import matplotlib.pyplot as plt\n",
    "for col in num_cols:\n",
    "    plt.hist(x_train[col].values)\n",
    "    plt.title(col,fontsize=15)\n",
    "    plt.xlabel('Range',fontsize=15)\n",
    "    plt.ylabel('Frequency',fontsize=15)\n",
    "    plt.show()\n",
    "\"\"\""
   ]
  },
  {
   "cell_type": "code",
   "execution_count": 21,
   "id": "f5e17886",
   "metadata": {
    "execution": {
     "iopub.execute_input": "2023-04-03T13:01:32.709724Z",
     "iopub.status.busy": "2023-04-03T13:01:32.709068Z",
     "iopub.status.idle": "2023-04-03T13:01:32.715446Z",
     "shell.execute_reply": "2023-04-03T13:01:32.714017Z"
    },
    "papermill": {
     "duration": 0.030132,
     "end_time": "2023-04-03T13:01:32.717835",
     "exception": false,
     "start_time": "2023-04-03T13:01:32.687703",
     "status": "completed"
    },
    "tags": []
   },
   "outputs": [
    {
     "name": "stdout",
     "output_type": "stream",
     "text": [
      "[0, 1, 2, 3, 4, 5, 6, 7, 8, 9] [10, 11, 12, 13, 14, 15, 16, 17, 18, 19, 20]\n"
     ]
    }
   ],
   "source": [
    "print(num_cols_indx,cat_cols_indx)"
   ]
  },
  {
   "cell_type": "code",
   "execution_count": 22,
   "id": "d9bcfcec",
   "metadata": {
    "execution": {
     "iopub.execute_input": "2023-04-03T13:01:32.756629Z",
     "iopub.status.busy": "2023-04-03T13:01:32.755868Z",
     "iopub.status.idle": "2023-04-03T13:01:34.107163Z",
     "shell.execute_reply": "2023-04-03T13:01:34.106043Z"
    },
    "papermill": {
     "duration": 1.37412,
     "end_time": "2023-04-03T13:01:34.110130",
     "exception": false,
     "start_time": "2023-04-03T13:01:32.736010",
     "status": "completed"
    },
    "tags": []
   },
   "outputs": [],
   "source": [
    "from sklearn.model_selection import train_test_split\n",
    "\n",
    "x_train_1,x_test_1,y_train_1,y_test_1 = train_test_split(x_train,y_train,test_size=0.2,random_state=42)\n"
   ]
  },
  {
   "cell_type": "code",
   "execution_count": 23,
   "id": "d1df157c",
   "metadata": {
    "execution": {
     "iopub.execute_input": "2023-04-03T13:01:34.149340Z",
     "iopub.status.busy": "2023-04-03T13:01:34.148545Z",
     "iopub.status.idle": "2023-04-03T13:01:37.498495Z",
     "shell.execute_reply": "2023-04-03T13:01:37.497323Z"
    },
    "papermill": {
     "duration": 3.372874,
     "end_time": "2023-04-03T13:01:37.501427",
     "exception": false,
     "start_time": "2023-04-03T13:01:34.128553",
     "status": "completed"
    },
    "tags": []
   },
   "outputs": [
    {
     "name": "stdout",
     "output_type": "stream",
     "text": [
      "['HomePage', 'HomePage_Duration', 'LandingPage', 'LandingPage_Duration', 'ProductDescriptionPage', 'ProductDescriptionPage_Duration', 'GoogleMetric:Bounce Rates', 'GoogleMetric:Exit Rates', 'GoogleMetric:Page Values', 'SeasonalPurchase', 'Month_SeasonalPurchase', 'OS', 'SearchEngine', 'Zone', 'Type of Traffic', 'CustomerType', 'Gender', 'Cookies Setting', 'Education', 'Marital Status', 'WeekendPurchase']\n"
     ]
    }
   ],
   "source": [
    "#impute\n",
    "from sklearn.compose import ColumnTransformer\n",
    "from sklearn.impute import SimpleImputer,KNNImputer\n",
    "from sklearn.pipeline import Pipeline\n",
    "from sklearn.preprocessing import OneHotEncoder, StandardScaler,MinMaxScaler\n",
    "\n",
    "col_trans_1 = ColumnTransformer([(\"num_imp\",KNNImputer(),num_cols_indx),\n",
    "                                 (\"cat_imp\",SimpleImputer(missing_values=np.nan,strategy=\"most_frequent\"),cat_cols_indx)],\n",
    "                                remainder=\"passthrough\")\n",
    "\n",
    "cols_order = num_cols+cat_cols #order of the columns\n",
    "print(cols_order)\n",
    "encoder=OneHotEncoder()\n",
    "col_trans_2 = ColumnTransformer([('onehot_encoder',encoder,[i for i in range(10,21)])],\n",
    "                                 remainder=\"passthrough\")#apply onehotenc on cat cols only\n",
    "pipeline = Pipeline(steps=[\n",
    "    (\"trf1\",col_trans_1),\n",
    "    (\"trf2\",col_trans_2),\n",
    "    (\"trf3\",StandardScaler(with_mean=False))\n",
    "    ])\n",
    "x_train = pipeline.fit_transform(x_train)\n",
    "x_test = pipeline.transform(x_test)\n",
    "x_train_1 = pipeline.fit_transform(x_train_1)\n",
    "x_test_1 = pipeline.transform(x_test_1)\n",
    "#print(x_train.shape)\n"
   ]
  },
  {
   "cell_type": "code",
   "execution_count": 24,
   "id": "7c9b2930",
   "metadata": {
    "execution": {
     "iopub.execute_input": "2023-04-03T13:01:37.539922Z",
     "iopub.status.busy": "2023-04-03T13:01:37.539529Z",
     "iopub.status.idle": "2023-04-03T13:01:37.545945Z",
     "shell.execute_reply": "2023-04-03T13:01:37.544811Z"
    },
    "papermill": {
     "duration": 0.028991,
     "end_time": "2023-04-03T13:01:37.548573",
     "exception": false,
     "start_time": "2023-04-03T13:01:37.519582",
     "status": "completed"
    },
    "tags": []
   },
   "outputs": [
    {
     "data": {
      "text/plain": [
       "'import seaborn as sns\\nimport matplotlib.pyplot as plt\\n\\nplt.figure(figsize=(15,15))\\n\\nsns.heatmap(df.corr(),annot=True,vmin=-1,vmax=1)'"
      ]
     },
     "execution_count": 24,
     "metadata": {},
     "output_type": "execute_result"
    }
   ],
   "source": [
    "\"\"\"import seaborn as sns\n",
    "import matplotlib.pyplot as plt\n",
    "\n",
    "plt.figure(figsize=(15,15))\n",
    "\n",
    "sns.heatmap(df.corr(),annot=True,vmin=-1,vmax=1)\"\"\""
   ]
  },
  {
   "cell_type": "code",
   "execution_count": 25,
   "id": "265489d3",
   "metadata": {
    "execution": {
     "iopub.execute_input": "2023-04-03T13:01:37.589043Z",
     "iopub.status.busy": "2023-04-03T13:01:37.588646Z",
     "iopub.status.idle": "2023-04-03T13:01:37.595749Z",
     "shell.execute_reply": "2023-04-03T13:01:37.594537Z"
    },
    "papermill": {
     "duration": 0.031354,
     "end_time": "2023-04-03T13:01:37.598351",
     "exception": false,
     "start_time": "2023-04-03T13:01:37.566997",
     "status": "completed"
    },
    "tags": []
   },
   "outputs": [
    {
     "data": {
      "text/plain": [
       "\"#dropping cols based on corr\\ndrop_cols = ['GoogleMetric:Bounce Rates','ProductDescriptionPage']\\nx_train=x_train.drop(columns=drop_cols,axis=1)\\nx_test = x_test.drop(columns=drop_cols,axis=1)\\nx_train_1 = x_train_1.drop(columns=drop_cols,axis=1)\\nx_test_1 = x_test_1.drop(columns=drop_cols,axis=1)\\nprint(x_train.shape,x_test.shape,x_train_1.shape,x_test_1.shape)\""
      ]
     },
     "execution_count": 25,
     "metadata": {},
     "output_type": "execute_result"
    }
   ],
   "source": [
    "\"\"\"#dropping cols based on corr\n",
    "drop_cols = ['GoogleMetric:Bounce Rates','ProductDescriptionPage']\n",
    "x_train=x_train.drop(columns=drop_cols,axis=1)\n",
    "x_test = x_test.drop(columns=drop_cols,axis=1)\n",
    "x_train_1 = x_train_1.drop(columns=drop_cols,axis=1)\n",
    "x_test_1 = x_test_1.drop(columns=drop_cols,axis=1)\n",
    "print(x_train.shape,x_test.shape,x_train_1.shape,x_test_1.shape)\"\"\""
   ]
  },
  {
   "cell_type": "code",
   "execution_count": 26,
   "id": "6e8a5be1",
   "metadata": {
    "execution": {
     "iopub.execute_input": "2023-04-03T13:01:37.637359Z",
     "iopub.status.busy": "2023-04-03T13:01:37.636913Z",
     "iopub.status.idle": "2023-04-03T13:01:37.645594Z",
     "shell.execute_reply": "2023-04-03T13:01:37.643595Z"
    },
    "papermill": {
     "duration": 0.031989,
     "end_time": "2023-04-03T13:01:37.648794",
     "exception": false,
     "start_time": "2023-04-03T13:01:37.616805",
     "status": "completed"
    },
    "tags": []
   },
   "outputs": [
    {
     "data": {
      "text/plain": [
       "'cat_cols_updated = cat_cols_indx = list(x_train.columns.get_indexer(cat_cols))\\nprint(cat_cols_updated)\\ncol_trans_2 = ColumnTransformer([(\"encoder\",OneHotEncoder(),cat_cols_updated)],remainder=\"passthrough\")\\npipeline2 = Pipeline(steps=[(\"trf2\",col_trans_2),\\n                    (\"scaler\",StandardScaler(with_mean=False))])\\nx_train = pipeline2.fit_transform(x_train)\\nx_test =pipeline2.transform(x_test)\\nx_train_1 = pipeline2.fit_transform(x_train_1)\\nx_test_1 = pipeline2.transform(x_test_1)'"
      ]
     },
     "execution_count": 26,
     "metadata": {},
     "output_type": "execute_result"
    }
   ],
   "source": [
    "\"\"\"cat_cols_updated = cat_cols_indx = list(x_train.columns.get_indexer(cat_cols))\n",
    "print(cat_cols_updated)\n",
    "col_trans_2 = ColumnTransformer([(\"encoder\",OneHotEncoder(),cat_cols_updated)],remainder=\"passthrough\")\n",
    "pipeline2 = Pipeline(steps=[(\"trf2\",col_trans_2),\n",
    "                    (\"scaler\",StandardScaler(with_mean=False))])\n",
    "x_train = pipeline2.fit_transform(x_train)\n",
    "x_test =pipeline2.transform(x_test)\n",
    "x_train_1 = pipeline2.fit_transform(x_train_1)\n",
    "x_test_1 = pipeline2.transform(x_test_1)\"\"\""
   ]
  },
  {
   "cell_type": "markdown",
   "id": "ad2b795c",
   "metadata": {
    "papermill": {
     "duration": 0.018199,
     "end_time": "2023-04-03T13:01:37.685740",
     "exception": false,
     "start_time": "2023-04-03T13:01:37.667541",
     "status": "completed"
    },
    "tags": []
   },
   "source": [
    "# AdaBoost without SMOTE"
   ]
  },
  {
   "cell_type": "code",
   "execution_count": 27,
   "id": "3442a629",
   "metadata": {
    "execution": {
     "iopub.execute_input": "2023-04-03T13:01:37.724782Z",
     "iopub.status.busy": "2023-04-03T13:01:37.724036Z",
     "iopub.status.idle": "2023-04-03T13:01:39.929578Z",
     "shell.execute_reply": "2023-04-03T13:01:39.928312Z"
    },
    "papermill": {
     "duration": 2.228305,
     "end_time": "2023-04-03T13:01:39.932437",
     "exception": false,
     "start_time": "2023-04-03T13:01:37.704132",
     "status": "completed"
    },
    "tags": []
   },
   "outputs": [
    {
     "name": "stdout",
     "output_type": "stream",
     "text": [
      "Made_Purchase\n",
      "False            5369\n",
      "True             1230\n",
      "dtype: int64\n",
      "[0.33401222 0.33416574 0.33431913 0.33447241 0.33462557 0.33477862\n",
      " 0.33493154 0.33508435 0.33523703 0.3353896  0.33554205 0.33569439\n",
      " 0.3358466  0.3359987  0.33615068 0.33630254 0.33645428 0.3366059\n",
      " 0.33675741 0.3369088  0.33706007 0.33721122 0.33736226 0.33751317\n",
      " 0.33766397 0.33781465 0.33796522 0.33811566 0.33826599 0.3384162\n",
      " 0.33856629 0.33871627 0.33886613 0.33901587 0.33916549 0.33931499\n",
      " 0.33946438 0.33961365 0.3397628  0.33991184 0.34006076 0.34020956\n",
      " 0.34035824 0.33999308 0.34065052 0.3402863  0.34094234 0.34057906\n",
      " 0.34123372 0.34138159 0.34101516 0.34167229 0.34130679 0.34196253\n",
      " 0.34159796 0.34225232 0.34188868 0.34254166 0.34217895 0.34283054\n",
      " 0.34246876 0.34311898 0.34275812 0.34340696 0.34304703 0.3436945\n",
      " 0.34333548 0.34398158 0.34362348 0.34426822 0.34391103 0.3445544\n",
      " 0.34419813 0.34484014 0.34448478]\n"
     ]
    }
   ],
   "source": [
    "#BEST MODEL YET without smote\n",
    "from sklearn.ensemble import AdaBoostClassifier\n",
    "from sklearn.tree import DecisionTreeClassifier\n",
    "\n",
    "base = DecisionTreeClassifier(max_depth=1)\n",
    "abc = AdaBoostClassifier(base_estimator=base,n_estimators=75,learning_rate=0.001)\n",
    "abc.fit(x_train,y_train.values.ravel())\n",
    "y_pred_arr_1 = abc.predict(x_test)\n",
    "id = np.array([i for i in range(len(y_pred_arr_1))])\n",
    "arr = np.concatenate((id.reshape(-1,1),y_pred_arr_1.reshape(-1,1)),axis=1)\n",
    "y_preds = pd.DataFrame(y_pred_arr_1,columns=['Made_Purchase'])\n",
    "y_preds.index.name=\"id\"\n",
    "y_preds.to_csv('/kaggle/working/file.csv')\n",
    "print(y_preds.value_counts())\n",
    "print(abc.estimator_errors_)\n"
   ]
  },
  {
   "cell_type": "code",
   "execution_count": 28,
   "id": "214b98d0",
   "metadata": {
    "execution": {
     "iopub.execute_input": "2023-04-03T13:01:39.974296Z",
     "iopub.status.busy": "2023-04-03T13:01:39.973538Z",
     "iopub.status.idle": "2023-04-03T13:01:41.685617Z",
     "shell.execute_reply": "2023-04-03T13:01:41.684344Z"
    },
    "papermill": {
     "duration": 1.737154,
     "end_time": "2023-04-03T13:01:41.688839",
     "exception": false,
     "start_time": "2023-04-03T13:01:39.951685",
     "status": "completed"
    },
    "tags": []
   },
   "outputs": [
    {
     "name": "stdout",
     "output_type": "stream",
     "text": [
      "0.43383685800604227\n",
      "              precision    recall  f1-score   support\n",
      "\n",
      "       False     0.6965    0.8833    0.7789      1868\n",
      "        True     0.6222    0.3330    0.4338      1078\n",
      "\n",
      "    accuracy                         0.6819      2946\n",
      "   macro avg     0.6593    0.6082    0.6063      2946\n",
      "weighted avg     0.6693    0.6819    0.6526      2946\n",
      "\n"
     ]
    }
   ],
   "source": [
    "abc.fit(x_train_1,y_train_1.values.ravel())\n",
    "ypreds = abc.predict(x_test_1)\n",
    "from sklearn.metrics import classification_report,f1_score\n",
    "\n",
    "print(f1_score(y_test_1,ypreds))\n",
    "print(classification_report(y_test_1,ypreds,digits=4))"
   ]
  },
  {
   "cell_type": "code",
   "execution_count": 29,
   "id": "e0e183e3",
   "metadata": {
    "execution": {
     "iopub.execute_input": "2023-04-03T13:01:41.738611Z",
     "iopub.status.busy": "2023-04-03T13:01:41.738163Z",
     "iopub.status.idle": "2023-04-03T13:01:41.747532Z",
     "shell.execute_reply": "2023-04-03T13:01:41.745958Z"
    },
    "papermill": {
     "duration": 0.033578,
     "end_time": "2023-04-03T13:01:41.750446",
     "exception": false,
     "start_time": "2023-04-03T13:01:41.716868",
     "status": "completed"
    },
    "tags": []
   },
   "outputs": [
    {
     "data": {
      "text/plain": [
       "'\\n#after dropping a row\\n0.43383685800604227\\n              precision    recall  f1-score   support\\n\\n       False     0.6965    0.8833    0.7789      1868\\n        True     0.6222    0.3330    0.4338      1078\\n\\n    accuracy                         0.6819      2946\\n   macro avg     0.6593    0.6082    0.6063      2946\\nweighted avg     0.6693    0.6819    0.6526      2946\\n0.41009463722397477\\n              precision    recall  f1-score   support\\n\\n       False     0.6960    0.8950    0.7830      1885\\n        True     0.6214    0.3060    0.4101      1062\\n\\n    accuracy                         0.6827      2947\\n   macro avg     0.6587    0.6005    0.5966      2947\\nweighted avg     0.6691    0.6827    0.6486      2947\\n\\nMade_Purchase\\nFalse            5369\\nTrue             1230\\ndtype: int64\\n[0.33405743 0.33421091 0.33436427 0.33451752 0.33467064 0.33482365\\n 0.33497654 0.33512931 0.33528196 0.3354345  0.33558692 0.33573921\\n 0.33589139 0.33604346 0.3361954  0.33634722 0.33649893 0.33665052\\n 0.33680199 0.33695335 0.33710458 0.3372557  0.3374067  0.33755758\\n 0.33770835 0.337859   0.33800952 0.33815994 0.33831023 0.3384604\\n 0.33861046 0.3387604  0.33891023 0.33905993 0.33920952 0.33935899\\n 0.33950834 0.33965758 0.3398067  0.3399557  0.34010458 0.34025335\\n 0.340402   0.34003684 0.34069421 0.34032999 0.34098596 0.34062268\\n 0.34127727 0.34091492 0.34156812 0.3412067  0.34185852 0.34149804\\n 0.34214847 0.34229562 0.34193201 0.3425849  0.3422222  0.34287372\\n 0.34251195 0.34316209 0.34280124 0.34345    0.34309008 0.34373747\\n 0.34337846 0.34402449 0.3436664  0.34431106 0.34395388 0.34459718\\n 0.34424091 0.34488285 0.34452749]\\n\\n'"
      ]
     },
     "execution_count": 29,
     "metadata": {},
     "output_type": "execute_result"
    }
   ],
   "source": [
    "\"\"\"\n",
    "#after dropping a row\n",
    "0.43383685800604227\n",
    "              precision    recall  f1-score   support\n",
    "\n",
    "       False     0.6965    0.8833    0.7789      1868\n",
    "        True     0.6222    0.3330    0.4338      1078\n",
    "\n",
    "    accuracy                         0.6819      2946\n",
    "   macro avg     0.6593    0.6082    0.6063      2946\n",
    "weighted avg     0.6693    0.6819    0.6526      2946\n",
    "0.41009463722397477\n",
    "              precision    recall  f1-score   support\n",
    "\n",
    "       False     0.6960    0.8950    0.7830      1885\n",
    "        True     0.6214    0.3060    0.4101      1062\n",
    "\n",
    "    accuracy                         0.6827      2947\n",
    "   macro avg     0.6587    0.6005    0.5966      2947\n",
    "weighted avg     0.6691    0.6827    0.6486      2947\n",
    "\n",
    "Made_Purchase\n",
    "False            5369\n",
    "True             1230\n",
    "dtype: int64\n",
    "[0.33405743 0.33421091 0.33436427 0.33451752 0.33467064 0.33482365\n",
    " 0.33497654 0.33512931 0.33528196 0.3354345  0.33558692 0.33573921\n",
    " 0.33589139 0.33604346 0.3361954  0.33634722 0.33649893 0.33665052\n",
    " 0.33680199 0.33695335 0.33710458 0.3372557  0.3374067  0.33755758\n",
    " 0.33770835 0.337859   0.33800952 0.33815994 0.33831023 0.3384604\n",
    " 0.33861046 0.3387604  0.33891023 0.33905993 0.33920952 0.33935899\n",
    " 0.33950834 0.33965758 0.3398067  0.3399557  0.34010458 0.34025335\n",
    " 0.340402   0.34003684 0.34069421 0.34032999 0.34098596 0.34062268\n",
    " 0.34127727 0.34091492 0.34156812 0.3412067  0.34185852 0.34149804\n",
    " 0.34214847 0.34229562 0.34193201 0.3425849  0.3422222  0.34287372\n",
    " 0.34251195 0.34316209 0.34280124 0.34345    0.34309008 0.34373747\n",
    " 0.34337846 0.34402449 0.3436664  0.34431106 0.34395388 0.34459718\n",
    " 0.34424091 0.34488285 0.34452749]\n",
    "\n",
    "\"\"\""
   ]
  },
  {
   "cell_type": "code",
   "execution_count": null,
   "id": "e6a53f3a",
   "metadata": {
    "papermill": {
     "duration": 0.019699,
     "end_time": "2023-04-03T13:01:41.790486",
     "exception": false,
     "start_time": "2023-04-03T13:01:41.770787",
     "status": "completed"
    },
    "tags": []
   },
   "outputs": [],
   "source": []
  },
  {
   "cell_type": "markdown",
   "id": "18726630",
   "metadata": {
    "papermill": {
     "duration": 0.02446,
     "end_time": "2023-04-03T13:01:41.834575",
     "exception": false,
     "start_time": "2023-04-03T13:01:41.810115",
     "status": "completed"
    },
    "tags": []
   },
   "source": [
    "# XGB"
   ]
  },
  {
   "cell_type": "code",
   "execution_count": 30,
   "id": "9458948b",
   "metadata": {
    "execution": {
     "iopub.execute_input": "2023-04-03T13:01:41.874405Z",
     "iopub.status.busy": "2023-04-03T13:01:41.873995Z",
     "iopub.status.idle": "2023-04-03T13:01:41.881830Z",
     "shell.execute_reply": "2023-04-03T13:01:41.880484Z"
    },
    "papermill": {
     "duration": 0.030939,
     "end_time": "2023-04-03T13:01:41.884660",
     "exception": false,
     "start_time": "2023-04-03T13:01:41.853721",
     "status": "completed"
    },
    "tags": []
   },
   "outputs": [
    {
     "data": {
      "text/plain": [
       "'from xgboost import XGBClassifier\\nfrom sklearn.metrics import accuracy_score\\nfrom matplotlib import pyplot as plt\\n\\nmodel = XGBClassifier(n_estimators=150,max_depth=3,learning_rate=0.005,colsample_bytree=0.9,\\n                      min_child_weight=1,scale_pos_weight=1.5,reg_lambda=0.2)\\nmodel.fit(x_train,y_train.values.ravel())\\ny_pred_arr = model.predict(x_test)\\nid = np.array([i for i in range(len(y_pred_arr))])\\narr = np.concatenate((id.reshape(-1,1),y_pred_arr.reshape(-1,1)),axis=1)\\ny_preds = pd.DataFrame(y_pred_arr,columns=[\\'Made_Purchase\\'],dtype=bool)\\ny_preds.index.name=\"id\"\\ny_preds.to_csv(\\'/kaggle/working/file.csv\\')\\nprint(y_preds.value_counts())\\n\\nevalset = [(x_train_1,y_train_1),(x_test_1,y_test_1)]\\nmodel.fit(x_train_1,y_train_1,eval_set=evalset)\\nypreds = model.predict(x_test_1)\\nscore = accuracy_score(y_test_1,ypreds)\\nresults = model.evals_result()\\nplt.plot(results[\\'validation_0\\'][\\'logloss\\'], label=\\'train\\')\\nplt.plot(results[\\'validation_1\\'][\\'logloss\\'],label=\\'test\\')\\nplt.legend()\\nplt.show()'"
      ]
     },
     "execution_count": 30,
     "metadata": {},
     "output_type": "execute_result"
    }
   ],
   "source": [
    "\"\"\"from xgboost import XGBClassifier\n",
    "from sklearn.metrics import accuracy_score\n",
    "from matplotlib import pyplot as plt\n",
    "\n",
    "model = XGBClassifier(n_estimators=150,max_depth=3,learning_rate=0.005,colsample_bytree=0.9,\n",
    "                      min_child_weight=1,scale_pos_weight=1.5,reg_lambda=0.2)\n",
    "model.fit(x_train,y_train.values.ravel())\n",
    "y_pred_arr = model.predict(x_test)\n",
    "id = np.array([i for i in range(len(y_pred_arr))])\n",
    "arr = np.concatenate((id.reshape(-1,1),y_pred_arr.reshape(-1,1)),axis=1)\n",
    "y_preds = pd.DataFrame(y_pred_arr,columns=['Made_Purchase'],dtype=bool)\n",
    "y_preds.index.name=\"id\"\n",
    "y_preds.to_csv('/kaggle/working/file.csv')\n",
    "print(y_preds.value_counts())\n",
    "\n",
    "evalset = [(x_train_1,y_train_1),(x_test_1,y_test_1)]\n",
    "model.fit(x_train_1,y_train_1,eval_set=evalset)\n",
    "ypreds = model.predict(x_test_1)\n",
    "score = accuracy_score(y_test_1,ypreds)\n",
    "results = model.evals_result()\n",
    "plt.plot(results['validation_0']['logloss'], label='train')\n",
    "plt.plot(results['validation_1']['logloss'],label='test')\n",
    "plt.legend()\n",
    "plt.show()\"\"\""
   ]
  },
  {
   "cell_type": "code",
   "execution_count": 31,
   "id": "9fd278cb",
   "metadata": {
    "execution": {
     "iopub.execute_input": "2023-04-03T13:01:41.926736Z",
     "iopub.status.busy": "2023-04-03T13:01:41.926345Z",
     "iopub.status.idle": "2023-04-03T13:01:41.933318Z",
     "shell.execute_reply": "2023-04-03T13:01:41.932045Z"
    },
    "papermill": {
     "duration": 0.030896,
     "end_time": "2023-04-03T13:01:41.935774",
     "exception": false,
     "start_time": "2023-04-03T13:01:41.904878",
     "status": "completed"
    },
    "tags": []
   },
   "outputs": [
    {
     "data": {
      "text/plain": [
       "'from sklearn.metrics import classification_report,f1_score\\n\\nprint(f1_score(y_test_1,ypreds))\\nprint(classification_report(y_test_1,ypreds,digits=4))'"
      ]
     },
     "execution_count": 31,
     "metadata": {},
     "output_type": "execute_result"
    }
   ],
   "source": [
    "\"\"\"from sklearn.metrics import classification_report,f1_score\n",
    "\n",
    "print(f1_score(y_test_1,ypreds))\n",
    "print(classification_report(y_test_1,ypreds,digits=4))\"\"\""
   ]
  },
  {
   "cell_type": "code",
   "execution_count": 32,
   "id": "16236143",
   "metadata": {
    "execution": {
     "iopub.execute_input": "2023-04-03T13:01:41.982544Z",
     "iopub.status.busy": "2023-04-03T13:01:41.981922Z",
     "iopub.status.idle": "2023-04-03T13:01:41.987666Z",
     "shell.execute_reply": "2023-04-03T13:01:41.986521Z"
    },
    "papermill": {
     "duration": 0.034261,
     "end_time": "2023-04-03T13:01:41.990239",
     "exception": false,
     "start_time": "2023-04-03T13:01:41.955978",
     "status": "completed"
    },
    "tags": []
   },
   "outputs": [],
   "source": [
    "#XGBClassifier()"
   ]
  },
  {
   "cell_type": "code",
   "execution_count": 33,
   "id": "d7a04ae2",
   "metadata": {
    "execution": {
     "iopub.execute_input": "2023-04-03T13:01:42.033256Z",
     "iopub.status.busy": "2023-04-03T13:01:42.032165Z",
     "iopub.status.idle": "2023-04-03T13:01:42.041251Z",
     "shell.execute_reply": "2023-04-03T13:01:42.040145Z"
    },
    "papermill": {
     "duration": 0.034314,
     "end_time": "2023-04-03T13:01:42.044035",
     "exception": false,
     "start_time": "2023-04-03T13:01:42.009721",
     "status": "completed"
    },
    "tags": []
   },
   "outputs": [
    {
     "data": {
      "text/plain": [
       "\"#xgb hpt\\nfrom sklearn.model_selection import GridSearchCV\\neta = [i*0.01 for i in range(1,20)]\\nmax_depth=[i for i in range(3,10)]\\nmin_child_weight=[i for i in range(0,5)]\\nsubsample = [i*0.1 for i in range(6,11)]\\ncolsample_bytree = [i*0.1 for i in range(6,11)]\\nreg_lambda=[1]+[i*0.01 for i in range(1,10)]\\ngamma = [0,0.3,0.5,0.7,0.9,1]+[i*0.01 for i in range(1,10)]\\nmodel = XGBClassifier()\\ntuned_params=dict(eta=eta,max_depth=max_depth,gamma=gamma,reg_lambda=reg_lambda,subsample=subsample,\\n                  min_child_weight=min_child_weight,colsample_bytree=colsample_bytree)\\ngrid_search = GridSearchCV(estimator=model,param_grid=tuned_params,scoring='accuracy',n_jobs=-1)\\ngrid_result = grid_search.fit(x_train,y_train.values.ravel())\\nprint(grid_result.best_params_)\""
      ]
     },
     "execution_count": 33,
     "metadata": {},
     "output_type": "execute_result"
    }
   ],
   "source": [
    "\"\"\"#xgb hpt\n",
    "from sklearn.model_selection import GridSearchCV\n",
    "eta = [i*0.01 for i in range(1,20)]\n",
    "max_depth=[i for i in range(3,10)]\n",
    "min_child_weight=[i for i in range(0,5)]\n",
    "subsample = [i*0.1 for i in range(6,11)]\n",
    "colsample_bytree = [i*0.1 for i in range(6,11)]\n",
    "reg_lambda=[1]+[i*0.01 for i in range(1,10)]\n",
    "gamma = [0,0.3,0.5,0.7,0.9,1]+[i*0.01 for i in range(1,10)]\n",
    "model = XGBClassifier()\n",
    "tuned_params=dict(eta=eta,max_depth=max_depth,gamma=gamma,reg_lambda=reg_lambda,subsample=subsample,\n",
    "                  min_child_weight=min_child_weight,colsample_bytree=colsample_bytree)\n",
    "grid_search = GridSearchCV(estimator=model,param_grid=tuned_params,scoring='accuracy',n_jobs=-1)\n",
    "grid_result = grid_search.fit(x_train,y_train.values.ravel())\n",
    "print(grid_result.best_params_)\"\"\""
   ]
  },
  {
   "cell_type": "markdown",
   "id": "03c84ce7",
   "metadata": {
    "papermill": {
     "duration": 0.020364,
     "end_time": "2023-04-03T13:01:42.085293",
     "exception": false,
     "start_time": "2023-04-03T13:01:42.064929",
     "status": "completed"
    },
    "tags": []
   },
   "source": [
    "# Oversample with SMOTE"
   ]
  },
  {
   "cell_type": "code",
   "execution_count": 34,
   "id": "14936ceb",
   "metadata": {
    "execution": {
     "iopub.execute_input": "2023-04-03T13:01:42.126898Z",
     "iopub.status.busy": "2023-04-03T13:01:42.125966Z",
     "iopub.status.idle": "2023-04-03T13:01:42.133583Z",
     "shell.execute_reply": "2023-04-03T13:01:42.132445Z"
    },
    "papermill": {
     "duration": 0.031235,
     "end_time": "2023-04-03T13:01:42.136093",
     "exception": false,
     "start_time": "2023-04-03T13:01:42.104858",
     "status": "completed"
    },
    "tags": []
   },
   "outputs": [
    {
     "data": {
      "text/plain": [
       "'#impute,label,scale and then smote\\nfrom imblearn.over_sampling import SMOTE\\nfrom collections import Counter\\n\\noversample = SMOTE()\\nx_train,y_train = oversample.fit_resample(x_train,y_train)\\ncounter = Counter(y_train.values.ravel()) #new class distribution after oversampling\\nprint(counter)'"
      ]
     },
     "execution_count": 34,
     "metadata": {},
     "output_type": "execute_result"
    }
   ],
   "source": [
    "\"\"\"#impute,label,scale and then smote\n",
    "from imblearn.over_sampling import SMOTE\n",
    "from collections import Counter\n",
    "\n",
    "oversample = SMOTE()\n",
    "x_train,y_train = oversample.fit_resample(x_train,y_train)\n",
    "counter = Counter(y_train.values.ravel()) #new class distribution after oversampling\n",
    "print(counter)\"\"\""
   ]
  },
  {
   "cell_type": "markdown",
   "id": "afbfd6fd",
   "metadata": {
    "papermill": {
     "duration": 0.020378,
     "end_time": "2023-04-03T13:01:42.176835",
     "exception": false,
     "start_time": "2023-04-03T13:01:42.156457",
     "status": "completed"
    },
    "tags": []
   },
   "source": [
    "# Undersample using TomekLinks"
   ]
  },
  {
   "cell_type": "code",
   "execution_count": 35,
   "id": "7e13c61e",
   "metadata": {
    "execution": {
     "iopub.execute_input": "2023-04-03T13:01:42.219384Z",
     "iopub.status.busy": "2023-04-03T13:01:42.218440Z",
     "iopub.status.idle": "2023-04-03T13:01:42.226042Z",
     "shell.execute_reply": "2023-04-03T13:01:42.224770Z"
    },
    "papermill": {
     "duration": 0.031698,
     "end_time": "2023-04-03T13:01:42.228791",
     "exception": false,
     "start_time": "2023-04-03T13:01:42.197093",
     "status": "completed"
    },
    "tags": []
   },
   "outputs": [
    {
     "data": {
      "text/plain": [
       "'#undersample\\nfrom imblearn.under_sampling import TomekLinks\\n\\nundersample = TomekLinks()\\nx_train,y_train = undersample.fit_resample(x_train,y_train)\\ncounter = Counter(y_train.values.ravel())\\nprint(counter)'"
      ]
     },
     "execution_count": 35,
     "metadata": {},
     "output_type": "execute_result"
    }
   ],
   "source": [
    "\"\"\"#undersample\n",
    "from imblearn.under_sampling import TomekLinks\n",
    "\n",
    "undersample = TomekLinks()\n",
    "x_train,y_train = undersample.fit_resample(x_train,y_train)\n",
    "counter = Counter(y_train.values.ravel())\n",
    "print(counter)\"\"\""
   ]
  },
  {
   "cell_type": "code",
   "execution_count": 36,
   "id": "fd50d28c",
   "metadata": {
    "execution": {
     "iopub.execute_input": "2023-04-03T13:01:42.273521Z",
     "iopub.status.busy": "2023-04-03T13:01:42.272976Z",
     "iopub.status.idle": "2023-04-03T13:01:42.286254Z",
     "shell.execute_reply": "2023-04-03T13:01:42.284811Z"
    },
    "papermill": {
     "duration": 0.039421,
     "end_time": "2023-04-03T13:01:42.288989",
     "exception": false,
     "start_time": "2023-04-03T13:01:42.249568",
     "status": "completed"
    },
    "tags": []
   },
   "outputs": [
    {
     "data": {
      "text/plain": [
       "Made_Purchase\n",
       "False            9065\n",
       "True             5665\n",
       "dtype: int64"
      ]
     },
     "execution_count": 36,
     "metadata": {},
     "output_type": "execute_result"
    }
   ],
   "source": [
    "y_train.value_counts()"
   ]
  },
  {
   "cell_type": "markdown",
   "id": "9fbdf79d",
   "metadata": {
    "papermill": {
     "duration": 0.020524,
     "end_time": "2023-04-03T13:01:42.329186",
     "exception": false,
     "start_time": "2023-04-03T13:01:42.308662",
     "status": "completed"
    },
    "tags": []
   },
   "source": [
    "# XGBOOST CLASSIFIER WITH SMOTE"
   ]
  },
  {
   "cell_type": "markdown",
   "id": "2e6e8e39",
   "metadata": {
    "papermill": {
     "duration": 0.020831,
     "end_time": "2023-04-03T13:01:42.370623",
     "exception": false,
     "start_time": "2023-04-03T13:01:42.349792",
     "status": "completed"
    },
    "tags": []
   },
   "source": [
    "# GradientBoostClassifier"
   ]
  },
  {
   "cell_type": "code",
   "execution_count": 37,
   "id": "e34bdfc6",
   "metadata": {
    "execution": {
     "iopub.execute_input": "2023-04-03T13:01:42.414999Z",
     "iopub.status.busy": "2023-04-03T13:01:42.414024Z",
     "iopub.status.idle": "2023-04-03T13:01:42.423328Z",
     "shell.execute_reply": "2023-04-03T13:01:42.422036Z"
    },
    "papermill": {
     "duration": 0.034933,
     "end_time": "2023-04-03T13:01:42.426137",
     "exception": false,
     "start_time": "2023-04-03T13:01:42.391204",
     "status": "completed"
    },
    "tags": []
   },
   "outputs": [
    {
     "data": {
      "text/plain": [
       "'#gbc default\\nfrom sklearn.ensemble import GradientBoostingClassifier\\n\\nGBC = GradientBoostingClassifier(n_estimators=1000,learning_rate=0.001)\\nGBC.fit(x_train,y_train.values.ravel())\\ny_pred_arr_gbc = GBC.predict(x_test)\\nid = np.array([i for i in range(len(y_pred_arr_gbc))])\\narr = np.concatenate((id.reshape(-1,1),y_pred_arr_gbc.reshape(-1,1)),axis=1)\\ny_preds = pd.DataFrame(y_pred_arr_gbc,columns=[\\'Made_Purchase\\'])\\ny_preds.index.name=\"id\"\\ny_preds.to_csv(\\'/kaggle/working/file.csv\\')\\nprint(y_preds.value_counts())\\nprint(GBC.n_estimators_)'"
      ]
     },
     "execution_count": 37,
     "metadata": {},
     "output_type": "execute_result"
    }
   ],
   "source": [
    "\"\"\"#gbc default\n",
    "from sklearn.ensemble import GradientBoostingClassifier\n",
    "\n",
    "GBC = GradientBoostingClassifier(n_estimators=1000,learning_rate=0.001)\n",
    "GBC.fit(x_train,y_train.values.ravel())\n",
    "y_pred_arr_gbc = GBC.predict(x_test)\n",
    "id = np.array([i for i in range(len(y_pred_arr_gbc))])\n",
    "arr = np.concatenate((id.reshape(-1,1),y_pred_arr_gbc.reshape(-1,1)),axis=1)\n",
    "y_preds = pd.DataFrame(y_pred_arr_gbc,columns=['Made_Purchase'])\n",
    "y_preds.index.name=\"id\"\n",
    "y_preds.to_csv('/kaggle/working/file.csv')\n",
    "print(y_preds.value_counts())\n",
    "print(GBC.n_estimators_)\"\"\""
   ]
  },
  {
   "cell_type": "markdown",
   "id": "a66258f3",
   "metadata": {
    "papermill": {
     "duration": 0.019489,
     "end_time": "2023-04-03T13:01:42.465689",
     "exception": false,
     "start_time": "2023-04-03T13:01:42.446200",
     "status": "completed"
    },
    "tags": []
   },
   "source": [
    "# AdaBoost"
   ]
  },
  {
   "cell_type": "code",
   "execution_count": 38,
   "id": "1214fc6f",
   "metadata": {
    "execution": {
     "iopub.execute_input": "2023-04-03T13:01:42.508746Z",
     "iopub.status.busy": "2023-04-03T13:01:42.507725Z",
     "iopub.status.idle": "2023-04-03T13:01:42.516506Z",
     "shell.execute_reply": "2023-04-03T13:01:42.515313Z"
    },
    "papermill": {
     "duration": 0.033612,
     "end_time": "2023-04-03T13:01:42.519325",
     "exception": false,
     "start_time": "2023-04-03T13:01:42.485713",
     "status": "completed"
    },
    "tags": []
   },
   "outputs": [
    {
     "data": {
      "text/plain": [
       "'#BEST MODEL YET\\nfrom sklearn.ensemble import AdaBoostClassifier\\nfrom sklearn.tree import DecisionTreeClassifier\\n\\nabc = AdaBoostClassifier(n_estimators=75,learning_rate=0.001)\\nabc.fit(x_train,y_train.values.ravel())\\ny_pred_arr_ada = abc.predict(x_test)\\nid = np.array([i for i in range(len(y_pred_arr_ada))])\\narr = np.concatenate((id.reshape(-1,1),y_pred_arr_ada.reshape(-1,1)),axis=1)\\ny_preds = pd.DataFrame(y_pred_arr_ada,columns=[\\'Made_Purchase\\'],dtype=bool)\\ny_preds.index.name=\"id\"\\ny_preds.to_csv(\\'/kaggle/working/file.csv\\')\\nprint(y_preds.value_counts())\\nprint(abc.estimator_errors_)'"
      ]
     },
     "execution_count": 38,
     "metadata": {},
     "output_type": "execute_result"
    }
   ],
   "source": [
    "\"\"\"#BEST MODEL YET\n",
    "from sklearn.ensemble import AdaBoostClassifier\n",
    "from sklearn.tree import DecisionTreeClassifier\n",
    "\n",
    "abc = AdaBoostClassifier(n_estimators=75,learning_rate=0.001)\n",
    "abc.fit(x_train,y_train.values.ravel())\n",
    "y_pred_arr_ada = abc.predict(x_test)\n",
    "id = np.array([i for i in range(len(y_pred_arr_ada))])\n",
    "arr = np.concatenate((id.reshape(-1,1),y_pred_arr_ada.reshape(-1,1)),axis=1)\n",
    "y_preds = pd.DataFrame(y_pred_arr_ada,columns=['Made_Purchase'],dtype=bool)\n",
    "y_preds.index.name=\"id\"\n",
    "y_preds.to_csv('/kaggle/working/file.csv')\n",
    "print(y_preds.value_counts())\n",
    "print(abc.estimator_errors_)\"\"\""
   ]
  },
  {
   "cell_type": "code",
   "execution_count": 39,
   "id": "da969951",
   "metadata": {
    "execution": {
     "iopub.execute_input": "2023-04-03T13:01:42.569807Z",
     "iopub.status.busy": "2023-04-03T13:01:42.569043Z",
     "iopub.status.idle": "2023-04-03T13:01:42.575923Z",
     "shell.execute_reply": "2023-04-03T13:01:42.574784Z"
    },
    "papermill": {
     "duration": 0.033676,
     "end_time": "2023-04-03T13:01:42.578430",
     "exception": false,
     "start_time": "2023-04-03T13:01:42.544754",
     "status": "completed"
    },
    "tags": []
   },
   "outputs": [
    {
     "data": {
      "text/plain": [
       "\"#abc hpt without smote or tomek \\nfrom sklearn.model_selection import GridSearchCV\\nfrom sklearn.ensemble import AdaBoostClassifier\\nfrom sklearn.tree import DecisionTreeClassifier\\n\\nbase = DecisionTreeClassifier()\\nabc = AdaBoostClassifier(base_estimator=base)\\ntuned_parameters = [{\\n    'n_estimators': [10,25,50,75,100,150],    \\n    'learning_rate': [0.001,0.005,0.01,0.05,0.1,0.2,0.3,0.4,0.5,0.7,1]\\n}]\\ngrid_search = GridSearchCV(estimator=abc,param_grid=tuned_parameters,scoring='f1')\\ngrid_result = grid_search.fit(x_train,y_train.values.ravel())\\nprint(grid_result.best_params_)\\n\\n\""
      ]
     },
     "execution_count": 39,
     "metadata": {},
     "output_type": "execute_result"
    }
   ],
   "source": [
    "\"\"\"#abc hpt without smote or tomek \n",
    "from sklearn.model_selection import GridSearchCV\n",
    "from sklearn.ensemble import AdaBoostClassifier\n",
    "from sklearn.tree import DecisionTreeClassifier\n",
    "\n",
    "base = DecisionTreeClassifier()\n",
    "abc = AdaBoostClassifier(base_estimator=base)\n",
    "tuned_parameters = [{\n",
    "    'n_estimators': [10,25,50,75,100,150],    \n",
    "    'learning_rate': [0.001,0.005,0.01,0.05,0.1,0.2,0.3,0.4,0.5,0.7,1]\n",
    "}]\n",
    "grid_search = GridSearchCV(estimator=abc,param_grid=tuned_parameters,scoring='f1')\n",
    "grid_result = grid_search.fit(x_train,y_train.values.ravel())\n",
    "print(grid_result.best_params_)\n",
    "\n",
    "\"\"\""
   ]
  },
  {
   "cell_type": "code",
   "execution_count": 40,
   "id": "63b488a6",
   "metadata": {
    "execution": {
     "iopub.execute_input": "2023-04-03T13:01:42.622510Z",
     "iopub.status.busy": "2023-04-03T13:01:42.622082Z",
     "iopub.status.idle": "2023-04-03T13:01:42.628120Z",
     "shell.execute_reply": "2023-04-03T13:01:42.627347Z"
    },
    "papermill": {
     "duration": 0.03121,
     "end_time": "2023-04-03T13:01:42.630346",
     "exception": false,
     "start_time": "2023-04-03T13:01:42.599136",
     "status": "completed"
    },
    "tags": []
   },
   "outputs": [
    {
     "data": {
      "text/plain": [
       "\"from sklearn.model_selection import GridSearchCV\\nfrom sklearn.ensemble import AdaBoostClassifier\\nfrom sklearn.tree import DecisionTreeClassifier\\n\\nbase = DecisionTreeClassifier()\\nabc = AdaBoostClassifier(base_estimator=base)\\ntuned_parameters = [{\\n    'n_estimators': [10,25,50,75,100,150],    \\n    'learning_rate': [0.001,0.005,0.01,0.05,0.1,0.2,0.3,0.4,0.5,0.7,1]\\n}]\\ngrid_search = GridSearchCV(estimator=abc,param_grid=tuned_parameters,scoring='roc_auc')\\ngrid_result = grid_search.fit(x_train,y_train.values.ravel())\\nprint(grid_result.best_params_)\\n{'learning_rate': 1, 'n_estimators': 25}\""
      ]
     },
     "execution_count": 40,
     "metadata": {},
     "output_type": "execute_result"
    }
   ],
   "source": [
    "\"\"\"from sklearn.model_selection import GridSearchCV\n",
    "from sklearn.ensemble import AdaBoostClassifier\n",
    "from sklearn.tree import DecisionTreeClassifier\n",
    "\n",
    "base = DecisionTreeClassifier()\n",
    "abc = AdaBoostClassifier(base_estimator=base)\n",
    "tuned_parameters = [{\n",
    "    'n_estimators': [10,25,50,75,100,150],    \n",
    "    'learning_rate': [0.001,0.005,0.01,0.05,0.1,0.2,0.3,0.4,0.5,0.7,1]\n",
    "}]\n",
    "grid_search = GridSearchCV(estimator=abc,param_grid=tuned_parameters,scoring='roc_auc')\n",
    "grid_result = grid_search.fit(x_train,y_train.values.ravel())\n",
    "print(grid_result.best_params_)\n",
    "{'learning_rate': 1, 'n_estimators': 25}\"\"\""
   ]
  },
  {
   "cell_type": "code",
   "execution_count": 41,
   "id": "202053b6",
   "metadata": {
    "execution": {
     "iopub.execute_input": "2023-04-03T13:01:42.673341Z",
     "iopub.status.busy": "2023-04-03T13:01:42.672584Z",
     "iopub.status.idle": "2023-04-03T13:01:42.679039Z",
     "shell.execute_reply": "2023-04-03T13:01:42.677691Z"
    },
    "papermill": {
     "duration": 0.031167,
     "end_time": "2023-04-03T13:01:42.681693",
     "exception": false,
     "start_time": "2023-04-03T13:01:42.650526",
     "status": "completed"
    },
    "tags": []
   },
   "outputs": [
    {
     "data": {
      "text/plain": [
       "'abc.estimator_errors_'"
      ]
     },
     "execution_count": 41,
     "metadata": {},
     "output_type": "execute_result"
    }
   ],
   "source": [
    "\"abc.estimator_errors_\""
   ]
  },
  {
   "cell_type": "markdown",
   "id": "286a2fe0",
   "metadata": {
    "papermill": {
     "duration": 0.019995,
     "end_time": "2023-04-03T13:01:42.722187",
     "exception": false,
     "start_time": "2023-04-03T13:01:42.702192",
     "status": "completed"
    },
    "tags": []
   },
   "source": [
    "# XGBClassifier"
   ]
  },
  {
   "cell_type": "code",
   "execution_count": 42,
   "id": "de87f18e",
   "metadata": {
    "execution": {
     "iopub.execute_input": "2023-04-03T13:01:42.766518Z",
     "iopub.status.busy": "2023-04-03T13:01:42.766073Z",
     "iopub.status.idle": "2023-04-03T13:01:42.773920Z",
     "shell.execute_reply": "2023-04-03T13:01:42.772533Z"
    },
    "papermill": {
     "duration": 0.033657,
     "end_time": "2023-04-03T13:01:42.776771",
     "exception": false,
     "start_time": "2023-04-03T13:01:42.743114",
     "status": "completed"
    },
    "tags": []
   },
   "outputs": [
    {
     "data": {
      "text/plain": [
       "'from xgboost import XGBClassifier\\n\\nxgb = XGBClassifier()\\nxgb.fit(x_train,y_train.values.ravel())\\ny_pred_arr = xgb.predict(x_test)\\ny_pred_arr[y_pred_arr==0]=False\\ny_pred_arr[y_pred_arr==1]=True\\nid = np.array([i for i in range(len(y_pred_arr))])\\narr = np.concatenate((id.reshape(-1,1),y_pred_arr.reshape(-1,1)),axis=1)\\ny_preds = pd.DataFrame(y_pred_arr,columns=[\\'Made_Purchase\\'],dtype=bool)\\ny_preds.index.name=\"id\"\\ny_preds.to_csv(\\'/kaggle/working/file.csv\\')\\nprint(y_preds.value_counts())'"
      ]
     },
     "execution_count": 42,
     "metadata": {},
     "output_type": "execute_result"
    }
   ],
   "source": [
    "\"\"\"from xgboost import XGBClassifier\n",
    "\n",
    "xgb = XGBClassifier()\n",
    "xgb.fit(x_train,y_train.values.ravel())\n",
    "y_pred_arr = xgb.predict(x_test)\n",
    "y_pred_arr[y_pred_arr==0]=False\n",
    "y_pred_arr[y_pred_arr==1]=True\n",
    "id = np.array([i for i in range(len(y_pred_arr))])\n",
    "arr = np.concatenate((id.reshape(-1,1),y_pred_arr.reshape(-1,1)),axis=1)\n",
    "y_preds = pd.DataFrame(y_pred_arr,columns=['Made_Purchase'],dtype=bool)\n",
    "y_preds.index.name=\"id\"\n",
    "y_preds.to_csv('/kaggle/working/file.csv')\n",
    "print(y_preds.value_counts())\"\"\""
   ]
  },
  {
   "cell_type": "code",
   "execution_count": 43,
   "id": "90f33419",
   "metadata": {
    "execution": {
     "iopub.execute_input": "2023-04-03T13:01:42.821029Z",
     "iopub.status.busy": "2023-04-03T13:01:42.820624Z",
     "iopub.status.idle": "2023-04-03T13:01:42.827670Z",
     "shell.execute_reply": "2023-04-03T13:01:42.826445Z"
    },
    "papermill": {
     "duration": 0.032022,
     "end_time": "2023-04-03T13:01:42.830209",
     "exception": false,
     "start_time": "2023-04-03T13:01:42.798187",
     "status": "completed"
    },
    "tags": []
   },
   "outputs": [
    {
     "data": {
      "text/plain": [
       "\"#gbc hpt\\nfrom sklearn.ensemble import GradientBoostingClassifier\\nfrom sklearn.model_selection import GridSearchCV\\n\\ngbc=GradientBoostingClassifier()\\nn_trees=[10,100,150,200,250,300,400,500,1000]\\nlearning_rate=[0.001,0.01,0.1]\\ngrid=dict(n_estimators=n_trees,learning_rate=learning_rate)\\ngrid_search = GridSearchCV(estimator=gbc,param_grid=grid,scoring='f1',n_jobs=-1)\\ngrid_result = grid_search.fit(x_train,y_train.values.ravel())\\nprint(grid_result.best_score_,grid_result.best_params_)\""
      ]
     },
     "execution_count": 43,
     "metadata": {},
     "output_type": "execute_result"
    }
   ],
   "source": [
    "\"\"\"#gbc hpt\n",
    "from sklearn.ensemble import GradientBoostingClassifier\n",
    "from sklearn.model_selection import GridSearchCV\n",
    "\n",
    "gbc=GradientBoostingClassifier()\n",
    "n_trees=[10,100,150,200,250,300,400,500,1000]\n",
    "learning_rate=[0.001,0.01,0.1]\n",
    "grid=dict(n_estimators=n_trees,learning_rate=learning_rate)\n",
    "grid_search = GridSearchCV(estimator=gbc,param_grid=grid,scoring='f1',n_jobs=-1)\n",
    "grid_result = grid_search.fit(x_train,y_train.values.ravel())\n",
    "print(grid_result.best_score_,grid_result.best_params_)\"\"\""
   ]
  },
  {
   "cell_type": "markdown",
   "id": "33e11283",
   "metadata": {
    "papermill": {
     "duration": 0.02253,
     "end_time": "2023-04-03T13:01:42.876758",
     "exception": false,
     "start_time": "2023-04-03T13:01:42.854228",
     "status": "completed"
    },
    "tags": []
   },
   "source": [
    "# Random Forest Classifier"
   ]
  },
  {
   "cell_type": "code",
   "execution_count": 44,
   "id": "3cb72234",
   "metadata": {
    "execution": {
     "iopub.execute_input": "2023-04-03T13:01:42.922856Z",
     "iopub.status.busy": "2023-04-03T13:01:42.922440Z",
     "iopub.status.idle": "2023-04-03T13:01:42.932354Z",
     "shell.execute_reply": "2023-04-03T13:01:42.930048Z"
    },
    "papermill": {
     "duration": 0.037642,
     "end_time": "2023-04-03T13:01:42.935435",
     "exception": false,
     "start_time": "2023-04-03T13:01:42.897793",
     "status": "completed"
    },
    "tags": []
   },
   "outputs": [
    {
     "data": {
      "text/plain": [
       "'from sklearn.ensemble import RandomForestClassifier\\nrfc = RandomForestClassifier()\\nrfc.fit(x_train,y_train.values.ravel())\\ny_pred_arr=rfc.predict(x_test)\\nid = np.array([i for i in range(len(y_pred_arr))])\\narr = np.concatenate((id.reshape(-1,1),y_pred_arr.reshape(-1,1)),axis=1)\\ny_preds = pd.DataFrame(y_pred_arr,columns=[\\'Made_Purchase\\'])\\ny_preds.index.name=\"id\"\\ny_preds.to_csv(\\'/kaggle/working/file.csv\\')\\nprint(y_preds.value_counts())'"
      ]
     },
     "execution_count": 44,
     "metadata": {},
     "output_type": "execute_result"
    }
   ],
   "source": [
    "#random forest default\n",
    "\"\"\"from sklearn.ensemble import RandomForestClassifier\n",
    "rfc = RandomForestClassifier()\n",
    "rfc.fit(x_train,y_train.values.ravel())\n",
    "y_pred_arr=rfc.predict(x_test)\n",
    "id = np.array([i for i in range(len(y_pred_arr))])\n",
    "arr = np.concatenate((id.reshape(-1,1),y_pred_arr.reshape(-1,1)),axis=1)\n",
    "y_preds = pd.DataFrame(y_pred_arr,columns=['Made_Purchase'])\n",
    "y_preds.index.name=\"id\"\n",
    "y_preds.to_csv('/kaggle/working/file.csv')\n",
    "print(y_preds.value_counts())\"\"\""
   ]
  },
  {
   "cell_type": "code",
   "execution_count": 45,
   "id": "b82280bd",
   "metadata": {
    "execution": {
     "iopub.execute_input": "2023-04-03T13:01:42.984084Z",
     "iopub.status.busy": "2023-04-03T13:01:42.983613Z",
     "iopub.status.idle": "2023-04-03T13:01:42.992156Z",
     "shell.execute_reply": "2023-04-03T13:01:42.990659Z"
    },
    "papermill": {
     "duration": 0.036752,
     "end_time": "2023-04-03T13:01:42.995157",
     "exception": false,
     "start_time": "2023-04-03T13:01:42.958405",
     "status": "completed"
    },
    "tags": []
   },
   "outputs": [
    {
     "data": {
      "text/plain": [
       "'from sklearn.model_selection import GridSearchCV\\nfrom sklearn.model_selection import RepeatedStratifiedKFold\\nfrom sklearn.metrics import f1_score\\n\\nn_estimators = [10, 100, 1000]\\nmax_features = [\\'sqrt\\', \\'log2\\']\\ngrid = dict(n_estimators=n_estimators,max_features=max_features)\\ncv = RepeatedStratifiedKFold(n_splits=10, n_repeats=3, random_state=1)\\ngrid_search = GridSearchCV(estimator=rfc, param_grid=grid, n_jobs=-1, cv=cv, scoring=\\'f1\\')\\ngrid_result = grid_search.fit(x_train, y_train.values.ravel())\\nprint(\"Best: %f using %s\" % (grid_result.best_score_, grid_result.best_params_))\\nBest: 0.284653 using {\\'max_features\\': \\'sqrt\\', \\'n_estimators\\': 100}\\n'"
      ]
     },
     "execution_count": 45,
     "metadata": {},
     "output_type": "execute_result"
    }
   ],
   "source": [
    "\"\"\"from sklearn.model_selection import GridSearchCV\n",
    "from sklearn.model_selection import RepeatedStratifiedKFold\n",
    "from sklearn.metrics import f1_score\n",
    "\n",
    "n_estimators = [10, 100, 1000]\n",
    "max_features = ['sqrt', 'log2']\n",
    "grid = dict(n_estimators=n_estimators,max_features=max_features)\n",
    "cv = RepeatedStratifiedKFold(n_splits=10, n_repeats=3, random_state=1)\n",
    "grid_search = GridSearchCV(estimator=rfc, param_grid=grid, n_jobs=-1, cv=cv, scoring='f1')\n",
    "grid_result = grid_search.fit(x_train, y_train.values.ravel())\n",
    "print(\"Best: %f using %s\" % (grid_result.best_score_, grid_result.best_params_))\n",
    "Best: 0.284653 using {'max_features': 'sqrt', 'n_estimators': 100}\n",
    "\"\"\""
   ]
  },
  {
   "cell_type": "markdown",
   "id": "91dd297b",
   "metadata": {
    "papermill": {
     "duration": 0.02093,
     "end_time": "2023-04-03T13:01:43.039782",
     "exception": false,
     "start_time": "2023-04-03T13:01:43.018852",
     "status": "completed"
    },
    "tags": []
   },
   "source": [
    "# SVM"
   ]
  },
  {
   "cell_type": "code",
   "execution_count": 46,
   "id": "08d1a7f1",
   "metadata": {
    "execution": {
     "iopub.execute_input": "2023-04-03T13:01:43.084097Z",
     "iopub.status.busy": "2023-04-03T13:01:43.083570Z",
     "iopub.status.idle": "2023-04-03T13:01:43.091356Z",
     "shell.execute_reply": "2023-04-03T13:01:43.089954Z"
    },
    "papermill": {
     "duration": 0.033438,
     "end_time": "2023-04-03T13:01:43.093768",
     "exception": false,
     "start_time": "2023-04-03T13:01:43.060330",
     "status": "completed"
    },
    "tags": []
   },
   "outputs": [
    {
     "data": {
      "text/plain": [
       "'#svc default\\nfrom sklearn.svm import SVC\\nsvc = SVC()\\nsvc.fit(x_train,y_train.values.ravel())\\ny_pred_arr=svc.predict(x_test)\\nid = np.array([i for i in range(len(y_pred_arr))])\\narr = np.concatenate((id.reshape(-1,1),y_pred_arr.reshape(-1,1)),axis=1)\\ny_preds = pd.DataFrame(y_pred_arr,columns=[\\'Made_Purchase\\'])\\ny_preds.index.name=\"id\"\\ny_preds.to_csv(\\'/kaggle/working/file.csv\\')'"
      ]
     },
     "execution_count": 46,
     "metadata": {},
     "output_type": "execute_result"
    }
   ],
   "source": [
    "\"\"\"#svc default\n",
    "from sklearn.svm import SVC\n",
    "svc = SVC()\n",
    "svc.fit(x_train,y_train.values.ravel())\n",
    "y_pred_arr=svc.predict(x_test)\n",
    "id = np.array([i for i in range(len(y_pred_arr))])\n",
    "arr = np.concatenate((id.reshape(-1,1),y_pred_arr.reshape(-1,1)),axis=1)\n",
    "y_preds = pd.DataFrame(y_pred_arr,columns=['Made_Purchase'])\n",
    "y_preds.index.name=\"id\"\n",
    "y_preds.to_csv('/kaggle/working/file.csv')\"\"\""
   ]
  },
  {
   "cell_type": "markdown",
   "id": "4b67dbff",
   "metadata": {
    "papermill": {
     "duration": 0.020839,
     "end_time": "2023-04-03T13:01:43.135861",
     "exception": false,
     "start_time": "2023-04-03T13:01:43.115022",
     "status": "completed"
    },
    "tags": []
   },
   "source": [
    "# SGDClassifier"
   ]
  },
  {
   "cell_type": "code",
   "execution_count": 47,
   "id": "979c42ea",
   "metadata": {
    "execution": {
     "iopub.execute_input": "2023-04-03T13:01:43.182804Z",
     "iopub.status.busy": "2023-04-03T13:01:43.181742Z",
     "iopub.status.idle": "2023-04-03T13:01:43.190172Z",
     "shell.execute_reply": "2023-04-03T13:01:43.188790Z"
    },
    "papermill": {
     "duration": 0.033687,
     "end_time": "2023-04-03T13:01:43.193048",
     "exception": false,
     "start_time": "2023-04-03T13:01:43.159361",
     "status": "completed"
    },
    "tags": []
   },
   "outputs": [
    {
     "data": {
      "text/plain": [
       "'#sgd classifier log_loss\\nfrom sklearn.linear_model import SGDClassifier\\n\\nsgd_clf = SGDClassifier(loss=\\'perceptron\\')\\nsgd_clf.fit(x_train,y_train.values.ravel())\\ny_pred_arr = sgd_clf.predict(x_test)\\nid = np.array([i for i in range(len(y_pred_arr))])\\narr = np.concatenate((id.reshape(-1,1),y_pred_arr.reshape(-1,1)),axis=1)\\ny_preds = pd.DataFrame(y_pred_arr,columns=[\\'Made_Purchase\\'])\\ny_preds.index.name=\"id\"\\ny_preds.to_csv(\\'/kaggle/working/file.csv\\')\\nprint(y_preds.value_counts())'"
      ]
     },
     "execution_count": 47,
     "metadata": {},
     "output_type": "execute_result"
    }
   ],
   "source": [
    "\"\"\"#sgd classifier log_loss\n",
    "from sklearn.linear_model import SGDClassifier\n",
    "\n",
    "sgd_clf = SGDClassifier(loss='perceptron')\n",
    "sgd_clf.fit(x_train,y_train.values.ravel())\n",
    "y_pred_arr = sgd_clf.predict(x_test)\n",
    "id = np.array([i for i in range(len(y_pred_arr))])\n",
    "arr = np.concatenate((id.reshape(-1,1),y_pred_arr.reshape(-1,1)),axis=1)\n",
    "y_preds = pd.DataFrame(y_pred_arr,columns=['Made_Purchase'])\n",
    "y_preds.index.name=\"id\"\n",
    "y_preds.to_csv('/kaggle/working/file.csv')\n",
    "print(y_preds.value_counts())\"\"\""
   ]
  },
  {
   "cell_type": "markdown",
   "id": "5d8e62dc",
   "metadata": {
    "papermill": {
     "duration": 0.02026,
     "end_time": "2023-04-03T13:01:43.234190",
     "exception": false,
     "start_time": "2023-04-03T13:01:43.213930",
     "status": "completed"
    },
    "tags": []
   },
   "source": [
    "# **LogisticRegression**"
   ]
  },
  {
   "cell_type": "code",
   "execution_count": 48,
   "id": "bfbf3a2c",
   "metadata": {
    "execution": {
     "iopub.execute_input": "2023-04-03T13:01:43.278089Z",
     "iopub.status.busy": "2023-04-03T13:01:43.277693Z",
     "iopub.status.idle": "2023-04-03T13:01:43.284816Z",
     "shell.execute_reply": "2023-04-03T13:01:43.283696Z"
    },
    "papermill": {
     "duration": 0.032429,
     "end_time": "2023-04-03T13:01:43.287410",
     "exception": false,
     "start_time": "2023-04-03T13:01:43.254981",
     "status": "completed"
    },
    "tags": []
   },
   "outputs": [
    {
     "data": {
      "text/plain": [
       "'from sklearn.linear_model import LogisticRegression,LogisticRegressionCV\\nfrom sklearn.model_selection import cross_val_predict\\nfrom sklearn.metrics import f1_score\\nlr_clf = LogisticRegression() #best model so far without smote\\nlr_clf.fit(x_train,y_train.values.ravel())\\ny_pred_arr = lr_clf.predict(x_test)\\nid = np.array([i for i in range(len(y_pred_arr))])\\narr = np.concatenate((id.reshape(-1,1),y_pred_arr.reshape(-1,1)),axis=1)\\ny_preds = pd.DataFrame(y_pred_arr,columns=[\\'Made_Purchase\\'])\\ny_preds.index.name=\"id\"\\ny_preds.to_csv(\\'/kaggle/working/file.csv\\')'"
      ]
     },
     "execution_count": 48,
     "metadata": {},
     "output_type": "execute_result"
    }
   ],
   "source": [
    "\"\"\"from sklearn.linear_model import LogisticRegression,LogisticRegressionCV\n",
    "from sklearn.model_selection import cross_val_predict\n",
    "from sklearn.metrics import f1_score\n",
    "lr_clf = LogisticRegression() #best model so far without smote\n",
    "lr_clf.fit(x_train,y_train.values.ravel())\n",
    "y_pred_arr = lr_clf.predict(x_test)\n",
    "id = np.array([i for i in range(len(y_pred_arr))])\n",
    "arr = np.concatenate((id.reshape(-1,1),y_pred_arr.reshape(-1,1)),axis=1)\n",
    "y_preds = pd.DataFrame(y_pred_arr,columns=['Made_Purchase'])\n",
    "y_preds.index.name=\"id\"\n",
    "y_preds.to_csv('/kaggle/working/file.csv')\"\"\""
   ]
  },
  {
   "cell_type": "code",
   "execution_count": 49,
   "id": "d82f8e73",
   "metadata": {
    "execution": {
     "iopub.execute_input": "2023-04-03T13:01:43.331727Z",
     "iopub.status.busy": "2023-04-03T13:01:43.331287Z",
     "iopub.status.idle": "2023-04-03T13:01:43.336620Z",
     "shell.execute_reply": "2023-04-03T13:01:43.335209Z"
    },
    "papermill": {
     "duration": 0.031147,
     "end_time": "2023-04-03T13:01:43.339365",
     "exception": false,
     "start_time": "2023-04-03T13:01:43.308218",
     "status": "completed"
    },
    "tags": []
   },
   "outputs": [],
   "source": [
    "#y_preds.value_counts() #with default logreg"
   ]
  },
  {
   "cell_type": "code",
   "execution_count": 50,
   "id": "04b230f8",
   "metadata": {
    "execution": {
     "iopub.execute_input": "2023-04-03T13:01:43.383019Z",
     "iopub.status.busy": "2023-04-03T13:01:43.382575Z",
     "iopub.status.idle": "2023-04-03T13:01:43.390205Z",
     "shell.execute_reply": "2023-04-03T13:01:43.388987Z"
    },
    "papermill": {
     "duration": 0.032671,
     "end_time": "2023-04-03T13:01:43.393133",
     "exception": false,
     "start_time": "2023-04-03T13:01:43.360462",
     "status": "completed"
    },
    "tags": []
   },
   "outputs": [
    {
     "data": {
      "text/plain": [
       "\"from sklearn.metrics import f1_score\\nfrom sklearn.model_selection import GridSearchCV\\nsolvers = ['newton-cg', 'lbfgs', 'liblinear']\\npenalty = ['l2']\\nc_values = [100, 10,1, 0.1, 0.01]\\ngrid = dict(solver=solvers,penalty=penalty,C=c_values)\\ngrid_search = GridSearchCV(estimator=lr_clf, param_grid=grid,scoring='f1')\\ngrid_result = grid_search.fit(x_train, y_train.values.ravel())\""
      ]
     },
     "execution_count": 50,
     "metadata": {},
     "output_type": "execute_result"
    }
   ],
   "source": [
    "\"\"\"from sklearn.metrics import f1_score\n",
    "from sklearn.model_selection import GridSearchCV\n",
    "solvers = ['newton-cg', 'lbfgs', 'liblinear']\n",
    "penalty = ['l2']\n",
    "c_values = [100, 10,1, 0.1, 0.01]\n",
    "grid = dict(solver=solvers,penalty=penalty,C=c_values)\n",
    "grid_search = GridSearchCV(estimator=lr_clf, param_grid=grid,scoring='f1')\n",
    "grid_result = grid_search.fit(x_train, y_train.values.ravel())\"\"\"\n"
   ]
  },
  {
   "cell_type": "code",
   "execution_count": 51,
   "id": "5e1015f8",
   "metadata": {
    "execution": {
     "iopub.execute_input": "2023-04-03T13:01:43.438664Z",
     "iopub.status.busy": "2023-04-03T13:01:43.438159Z",
     "iopub.status.idle": "2023-04-03T13:01:43.445301Z",
     "shell.execute_reply": "2023-04-03T13:01:43.444075Z"
    },
    "papermill": {
     "duration": 0.03306,
     "end_time": "2023-04-03T13:01:43.447818",
     "exception": false,
     "start_time": "2023-04-03T13:01:43.414758",
     "status": "completed"
    },
    "tags": []
   },
   "outputs": [
    {
     "data": {
      "text/plain": [
       "'print(\"Best: %f using %s\" % (grid_result.best_score_, grid_result.best_params_))'"
      ]
     },
     "execution_count": 51,
     "metadata": {},
     "output_type": "execute_result"
    }
   ],
   "source": [
    "\"\"\"print(\"Best: %f using %s\" % (grid_result.best_score_, grid_result.best_params_))\"\"\""
   ]
  },
  {
   "cell_type": "code",
   "execution_count": 52,
   "id": "f7e53807",
   "metadata": {
    "execution": {
     "iopub.execute_input": "2023-04-03T13:01:43.495952Z",
     "iopub.status.busy": "2023-04-03T13:01:43.495499Z",
     "iopub.status.idle": "2023-04-03T13:01:43.503500Z",
     "shell.execute_reply": "2023-04-03T13:01:43.501821Z"
    },
    "papermill": {
     "duration": 0.034716,
     "end_time": "2023-04-03T13:01:43.506178",
     "exception": false,
     "start_time": "2023-04-03T13:01:43.471462",
     "status": "completed"
    },
    "tags": []
   },
   "outputs": [
    {
     "data": {
      "text/plain": [
       "'lr_clf_ht = LogisticRegression(penalty=\"l2\",C=0.01,solver=\"liblinear\")\\nlr_clf_ht.fit(x_train,y_train.values.ravel())\\ny_pred_arr = lr_clf_ht.predict(x_test)\\nid = np.array([i for i in range(len(y_pred_arr))])\\narr = np.concatenate((id.reshape(-1,1),y_pred_arr.reshape(-1,1)),axis=1)\\ny_preds = pd.DataFrame(y_pred_arr,columns=[\\'Made_Purchase\\'])\\ny_preds.index.name=\"id\"\\ny_preds.to_csv(\\'/kaggle/working/file.csv\\')'"
      ]
     },
     "execution_count": 52,
     "metadata": {},
     "output_type": "execute_result"
    }
   ],
   "source": [
    "#lr_clf after finding best params via GridSearchCV\n",
    "\n",
    "\"\"\"lr_clf_ht = LogisticRegression(penalty=\"l2\",C=0.01,solver=\"liblinear\")\n",
    "lr_clf_ht.fit(x_train,y_train.values.ravel())\n",
    "y_pred_arr = lr_clf_ht.predict(x_test)\n",
    "id = np.array([i for i in range(len(y_pred_arr))])\n",
    "arr = np.concatenate((id.reshape(-1,1),y_pred_arr.reshape(-1,1)),axis=1)\n",
    "y_preds = pd.DataFrame(y_pred_arr,columns=['Made_Purchase'])\n",
    "y_preds.index.name=\"id\"\n",
    "y_preds.to_csv('/kaggle/working/file.csv')\"\"\""
   ]
  },
  {
   "cell_type": "markdown",
   "id": "c06be26a",
   "metadata": {
    "papermill": {
     "duration": 0.023197,
     "end_time": "2023-04-03T13:01:43.551435",
     "exception": false,
     "start_time": "2023-04-03T13:01:43.528238",
     "status": "completed"
    },
    "tags": []
   },
   "source": [
    "# DummyClassifier"
   ]
  },
  {
   "cell_type": "code",
   "execution_count": 53,
   "id": "86df810e",
   "metadata": {
    "execution": {
     "iopub.execute_input": "2023-04-03T13:01:43.603408Z",
     "iopub.status.busy": "2023-04-03T13:01:43.602951Z",
     "iopub.status.idle": "2023-04-03T13:01:43.611323Z",
     "shell.execute_reply": "2023-04-03T13:01:43.609972Z"
    },
    "papermill": {
     "duration": 0.036708,
     "end_time": "2023-04-03T13:01:43.613952",
     "exception": false,
     "start_time": "2023-04-03T13:01:43.577244",
     "status": "completed"
    },
    "tags": []
   },
   "outputs": [
    {
     "data": {
      "text/plain": [
       "'dummy_clf = DummyClassifier(strategy=\"most_frequent\")\\ndummy_clf.fit(x_train,y_train)\\narr_0 = dummy_clf.predict(x_test)\\nprint(np.unique(arr_0))\\nid = np.array([i for i in range(len(arr_0))])\\narr = np.concatenate((id.reshape(-1,1), arr_0.reshape(-1,1)), axis=1)\\ny_preds = pd.DataFrame(arr,columns=[\\'id\\',\\'Made_Purchase\\'],dtype=bool)\\ny_preds.to_csv(\\'file.csv\\',index = False)'"
      ]
     },
     "execution_count": 53,
     "metadata": {},
     "output_type": "execute_result"
    }
   ],
   "source": [
    "\"\"\"dummy_clf = DummyClassifier(strategy=\"most_frequent\")\n",
    "dummy_clf.fit(x_train,y_train)\n",
    "arr_0 = dummy_clf.predict(x_test)\n",
    "print(np.unique(arr_0))\n",
    "id = np.array([i for i in range(len(arr_0))])\n",
    "arr = np.concatenate((id.reshape(-1,1), arr_0.reshape(-1,1)), axis=1)\n",
    "y_preds = pd.DataFrame(arr,columns=['id','Made_Purchase'],dtype=bool)\n",
    "y_preds.to_csv('file.csv',index = False)\"\"\""
   ]
  }
 ],
 "metadata": {
  "kernelspec": {
   "display_name": "Python 3",
   "language": "python",
   "name": "python3"
  },
  "language_info": {
   "codemirror_mode": {
    "name": "ipython",
    "version": 3
   },
   "file_extension": ".py",
   "mimetype": "text/x-python",
   "name": "python",
   "nbconvert_exporter": "python",
   "pygments_lexer": "ipython3",
   "version": "3.7.12"
  },
  "papermill": {
   "default_parameters": {},
   "duration": 24.606716,
   "end_time": "2023-04-03T13:01:44.461895",
   "environment_variables": {},
   "exception": null,
   "input_path": "__notebook__.ipynb",
   "output_path": "__notebook__.ipynb",
   "parameters": {},
   "start_time": "2023-04-03T13:01:19.855179",
   "version": "2.3.4"
  }
 },
 "nbformat": 4,
 "nbformat_minor": 5
}
